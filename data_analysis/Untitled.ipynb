{
 "cells": [
  {
   "cell_type": "code",
   "execution_count": 1,
   "metadata": {},
   "outputs": [],
   "source": [
    "import json"
   ]
  },
  {
   "cell_type": "code",
   "execution_count": 25,
   "metadata": {},
   "outputs": [
    {
     "name": "stdout",
     "output_type": "stream",
     "text": [
      "90 10\n"
     ]
    }
   ],
   "source": [
    "with open('../user_data_compare/Zeyuan/session_1.json', 'r') as f:\n",
    "    data = json.load(f)\n",
    "\n",
    "fake = ctx = 0\n",
    "for d in data:\n",
    "    if d['trial_type'] == \"image-keyboard-compare\":\n",
    "        if (d['key_press'] == 49 and 'fake' in d['first_image']) or \\\n",
    "           (d['key_press'] == 50 and 'fake' in d['second_image']):\n",
    "                fake += 1\n",
    "        else:\n",
    "            ctx += 1\n",
    "print(fake, ctx)"
   ]
  },
  {
   "cell_type": "code",
   "execution_count": 31,
   "metadata": {},
   "outputs": [
    {
     "name": "stdout",
     "output_type": "stream",
     "text": [
      "36 11\n"
     ]
    }
   ],
   "source": [
    "with open('../user_data_compare/Zeyuan/session_2.json', 'r') as f:\n",
    "    data = json.load(f)\n",
    "\n",
    "fake = ctx = 0\n",
    "for d in data:\n",
    "    if d['trial_type'] == \"image-keyboard-compare\":\n",
    "        if (d['key_press'] == 49 and 'fake' in d['first_image']) or \\\n",
    "           (d['key_press'] == 50 and 'fake' in d['second_image']):\n",
    "                fake += 1\n",
    "        elif (d['key_press'] == 49 and 'ctx' in d['first_image']) or \\\n",
    "           (d['key_press'] == 50 and 'ctx' in d['second_image']):\n",
    "            ctx += 1\n",
    "print(fake, ctx)"
   ]
  },
  {
   "cell_type": "code",
   "execution_count": 32,
   "metadata": {},
   "outputs": [
    {
     "name": "stdout",
     "output_type": "stream",
     "text": [
      "18 6\n"
     ]
    }
   ],
   "source": [
    "with open('../user_data_compare/Zeyuan/session_3.json', 'r') as f:\n",
    "    data = json.load(f)\n",
    "\n",
    "fake = ctx = 0\n",
    "for d in data:\n",
    "    if d['trial_type'] == \"image-keyboard-compare\":\n",
    "        if (d['key_press'] == 49 and 'fake' in d['first_image']) or \\\n",
    "           (d['key_press'] == 50 and 'fake' in d['second_image']):\n",
    "                fake += 1\n",
    "        elif (d['key_press'] == 49 and 'ctx' in d['first_image']) or \\\n",
    "           (d['key_press'] == 50 and 'ctx' in d['second_image']):\n",
    "            ctx += 1\n",
    "print(fake, ctx)"
   ]
  },
  {
   "cell_type": "code",
   "execution_count": 33,
   "metadata": {},
   "outputs": [
    {
     "name": "stdout",
     "output_type": "stream",
     "text": [
      "14 4\n"
     ]
    }
   ],
   "source": [
    "with open('../user_data_compare/Zeyuan/session_4.json', 'r') as f:\n",
    "    data = json.load(f)\n",
    "\n",
    "fake = ctx = 0\n",
    "for d in data:\n",
    "    if d['trial_type'] == \"image-keyboard-compare\":\n",
    "        if (d['key_press'] == 49 and 'fake' in d['first_image']) or \\\n",
    "           (d['key_press'] == 50 and 'fake' in d['second_image']):\n",
    "                fake += 1\n",
    "        elif (d['key_press'] == 49 and 'ctx' in d['first_image']) or \\\n",
    "           (d['key_press'] == 50 and 'ctx' in d['second_image']):\n",
    "            ctx += 1\n",
    "print(fake, ctx)"
   ]
  }
 ],
 "metadata": {
  "kernelspec": {
   "display_name": "Python 3",
   "language": "python",
   "name": "python3"
  },
  "language_info": {
   "codemirror_mode": {
    "name": "ipython",
    "version": 3
   },
   "file_extension": ".py",
   "mimetype": "text/x-python",
   "name": "python",
   "nbconvert_exporter": "python",
   "pygments_lexer": "ipython3",
   "version": "3.6.4"
  }
 },
 "nbformat": 4,
 "nbformat_minor": 2
}
