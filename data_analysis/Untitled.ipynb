{
 "cells": [
  {
   "cell_type": "code",
   "execution_count": 1,
   "metadata": {},
   "outputs": [],
   "source": [
    "import json\n",
    "\n",
    "import os"
   ]
  },
  {
   "cell_type": "code",
   "execution_count": 23,
   "metadata": {},
   "outputs": [],
   "source": [
    "user_name = os.listdir('../user_data_compare/')"
   ]
  },
  {
   "cell_type": "code",
   "execution_count": 24,
   "metadata": {},
   "outputs": [
    {
     "data": {
      "text/plain": [
       "['Shiou Tian Hsu',\n",
       " 'Jing Ao',\n",
       " 'Xing Pan',\n",
       " 'Li Shi',\n",
       " 'Pengcheng Wang',\n",
       " 'caiping wei',\n",
       " 'Ruonan Yang',\n",
       " 'Shuai Yang',\n",
       " 'Ziwei Wu',\n",
       " 'Jianfeng Chen',\n",
       " 'Zexi Chen',\n",
       " 'Liang Dong']"
      ]
     },
     "execution_count": 24,
     "metadata": {},
     "output_type": "execute_result"
    }
   ],
   "source": [
    "user_name"
   ]
  },
  {
   "cell_type": "code",
   "execution_count": 25,
   "metadata": {},
   "outputs": [
    {
     "name": "stdout",
     "output_type": "stream",
     "text": [
      "83 17\n",
      "88 12\n",
      "79 21\n",
      "86 14\n",
      "85 15\n",
      "86 14\n",
      "81 19\n",
      "85 15\n",
      "80 20\n",
      "73 27\n",
      "83 17\n",
      "77 23\n"
     ]
    }
   ],
   "source": [
    "for name in user_name:\n",
    "    with open('../user_data_compare/' + name + '/session_1.json', 'r') as f:\n",
    "        data = json.load(f)\n",
    "\n",
    "    fake = ctx = 0\n",
    "    for d in data:\n",
    "        if d['trial_type'] == \"image-keyboard-compare\":\n",
    "            if (d['key_press'] == 49 and 'fake' in d['first_image']) or \\\n",
    "               (d['key_press'] == 50 and 'fake' in d['second_image']):\n",
    "                    fake += 1\n",
    "            else:\n",
    "                ctx += 1\n",
    "    print(fake, ctx)"
   ]
  },
  {
   "cell_type": "code",
   "execution_count": 26,
   "metadata": {},
   "outputs": [
    {
     "name": "stdout",
     "output_type": "stream",
     "text": [
      "48 27\n",
      "30 16\n",
      "44 42\n",
      "47 25\n",
      "29 14\n",
      "39 12\n",
      "45 42\n",
      "47 36\n",
      "35 20\n",
      "47 46\n",
      "34 17\n",
      "39 43\n"
     ]
    }
   ],
   "source": [
    "for name in user_name:\n",
    "    with open('../user_data_compare/' + name + '/session_2.json', 'r') as f:\n",
    "        data = json.load(f)\n",
    "\n",
    "    fake = ctx = 0\n",
    "    for d in data:\n",
    "        if d['trial_type'] == \"image-keyboard-compare\":\n",
    "            if (d['key_press'] == 49 and 'fake' in d['first_image']) or \\\n",
    "               (d['key_press'] == 50 and 'fake' in d['second_image']):\n",
    "                    fake += 1\n",
    "            elif (d['key_press'] == 49 and 'ctx' in d['first_image']) or \\\n",
    "               (d['key_press'] == 50 and 'ctx' in d['second_image']):\n",
    "                ctx += 1\n",
    "    print(fake, ctx)"
   ]
  },
  {
   "cell_type": "code",
   "execution_count": 27,
   "metadata": {},
   "outputs": [
    {
     "name": "stdout",
     "output_type": "stream",
     "text": [
      "28 14\n",
      "11 2\n",
      "40 14\n",
      "16 6\n",
      "20 14\n",
      "7 7\n",
      "26 14\n",
      "14 10\n",
      "17 7\n",
      "52 27\n",
      "21 12\n",
      "36 19\n"
     ]
    }
   ],
   "source": [
    "for name in user_name:\n",
    "    with open('../user_data_compare/' + name + '/session_3.json', 'r') as f:\n",
    "        data = json.load(f)\n",
    "\n",
    "    fake = ctx = 0\n",
    "    for d in data:\n",
    "        if d['trial_type'] == \"image-keyboard-compare\":\n",
    "            if (d['key_press'] == 49 and 'fake' in d['first_image']) or \\\n",
    "               (d['key_press'] == 50 and 'fake' in d['second_image']):\n",
    "                    fake += 1\n",
    "            elif (d['key_press'] == 49 and 'ctx' in d['first_image']) or \\\n",
    "               (d['key_press'] == 50 and 'ctx' in d['second_image']):\n",
    "                ctx += 1\n",
    "    print(fake, ctx)"
   ]
  },
  {
   "cell_type": "code",
   "execution_count": 28,
   "metadata": {},
   "outputs": [
    {
     "name": "stdout",
     "output_type": "stream",
     "text": [
      "26 12\n",
      "5 4\n",
      "32 6\n",
      "13 3\n",
      "10 4\n",
      "6 0\n",
      "19 6\n",
      "6 0\n",
      "12 4\n",
      "47 28\n",
      "10 3\n",
      "35 19\n"
     ]
    }
   ],
   "source": [
    "for name in user_name:\n",
    "    with open('../user_data_compare/' + name + '/session_4.json', 'r') as f:\n",
    "        data = json.load(f)\n",
    "\n",
    "    fake = ctx = 0\n",
    "    for d in data:\n",
    "        if d['trial_type'] == \"image-keyboard-compare\":\n",
    "            if (d['key_press'] == 49 and 'fake' in d['first_image']) or \\\n",
    "               (d['key_press'] == 50 and 'fake' in d['second_image']):\n",
    "                    fake += 1\n",
    "            elif (d['key_press'] == 49 and 'ctx' in d['first_image']) or \\\n",
    "               (d['key_press'] == 50 and 'ctx' in d['second_image']):\n",
    "                ctx += 1\n",
    "    print(fake, ctx)"
   ]
  }
 ],
 "metadata": {
  "kernelspec": {
   "display_name": "Python 3",
   "language": "python",
   "name": "python3"
  },
  "language_info": {
   "codemirror_mode": {
    "name": "ipython",
    "version": 3
   },
   "file_extension": ".py",
   "mimetype": "text/x-python",
   "name": "python",
   "nbconvert_exporter": "python",
   "pygments_lexer": "ipython3",
   "version": "3.6.5"
  }
 },
 "nbformat": 4,
 "nbformat_minor": 2
}
