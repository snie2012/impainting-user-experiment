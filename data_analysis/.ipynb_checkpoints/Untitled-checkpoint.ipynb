{
 "cells": [
  {
   "cell_type": "code",
   "execution_count": 7,
   "metadata": {},
   "outputs": [],
   "source": [
    "import json"
   ]
  },
  {
   "cell_type": "code",
   "execution_count": 1,
   "metadata": {},
   "outputs": [],
   "source": [
    "import os"
   ]
  },
  {
   "cell_type": "code",
   "execution_count": 4,
   "metadata": {},
   "outputs": [],
   "source": [
    "user_name = os.listdir('../user_data_compare/')"
   ]
  },
  {
   "cell_type": "code",
   "execution_count": 5,
   "metadata": {},
   "outputs": [
    {
     "data": {
      "text/plain": [
       "['Xing Pan', 'Pengcheng Wang', 'Ziwei Wu', 'Jianfeng Chen', 'Zexi Chen']"
      ]
     },
     "execution_count": 5,
     "metadata": {},
     "output_type": "execute_result"
    }
   ],
   "source": [
    "user_name"
   ]
  },
  {
   "cell_type": "code",
   "execution_count": 8,
   "metadata": {},
   "outputs": [
    {
     "name": "stdout",
     "output_type": "stream",
     "text": [
      "79 21\n",
      "85 15\n",
      "80 20\n",
      "73 27\n",
      "83 17\n"
     ]
    }
   ],
   "source": [
    "for name in user_name:\n",
    "    with open('../user_data_compare/' + name + '/session_1.json', 'r') as f:\n",
    "        data = json.load(f)\n",
    "\n",
    "    fake = ctx = 0\n",
    "    for d in data:\n",
    "        if d['trial_type'] == \"image-keyboard-compare\":\n",
    "            if (d['key_press'] == 49 and 'fake' in d['first_image']) or \\\n",
    "               (d['key_press'] == 50 and 'fake' in d['second_image']):\n",
    "                    fake += 1\n",
    "            else:\n",
    "                ctx += 1\n",
    "    print(fake, ctx)"
   ]
  },
  {
   "cell_type": "code",
   "execution_count": 9,
   "metadata": {},
   "outputs": [
    {
     "name": "stdout",
     "output_type": "stream",
     "text": [
      "44 42\n",
      "29 14\n",
      "35 20\n",
      "47 46\n",
      "34 17\n"
     ]
    }
   ],
   "source": [
    "for name in user_name:\n",
    "    with open('../user_data_compare/' + name + '/session_2.json', 'r') as f:\n",
    "        data = json.load(f)\n",
    "\n",
    "    fake = ctx = 0\n",
    "    for d in data:\n",
    "        if d['trial_type'] == \"image-keyboard-compare\":\n",
    "            if (d['key_press'] == 49 and 'fake' in d['first_image']) or \\\n",
    "               (d['key_press'] == 50 and 'fake' in d['second_image']):\n",
    "                    fake += 1\n",
    "            elif (d['key_press'] == 49 and 'ctx' in d['first_image']) or \\\n",
    "               (d['key_press'] == 50 and 'ctx' in d['second_image']):\n",
    "                ctx += 1\n",
    "    print(fake, ctx)"
   ]
  },
  {
   "cell_type": "code",
   "execution_count": 10,
   "metadata": {},
   "outputs": [
    {
     "name": "stdout",
     "output_type": "stream",
     "text": [
      "40 14\n",
      "20 14\n",
      "17 7\n",
      "52 27\n",
      "21 12\n"
     ]
    }
   ],
   "source": [
    "for name in user_name:\n",
    "    with open('../user_data_compare/' + name + '/session_3.json', 'r') as f:\n",
    "        data = json.load(f)\n",
    "\n",
    "    fake = ctx = 0\n",
    "    for d in data:\n",
    "        if d['trial_type'] == \"image-keyboard-compare\":\n",
    "            if (d['key_press'] == 49 and 'fake' in d['first_image']) or \\\n",
    "               (d['key_press'] == 50 and 'fake' in d['second_image']):\n",
    "                    fake += 1\n",
    "            elif (d['key_press'] == 49 and 'ctx' in d['first_image']) or \\\n",
    "               (d['key_press'] == 50 and 'ctx' in d['second_image']):\n",
    "                ctx += 1\n",
    "    print(fake, ctx)"
   ]
  },
  {
   "cell_type": "code",
   "execution_count": 11,
   "metadata": {},
   "outputs": [
    {
     "name": "stdout",
     "output_type": "stream",
     "text": [
      "32 6\n",
      "10 4\n",
      "12 4\n",
      "47 28\n",
      "10 3\n"
     ]
    }
   ],
   "source": [
    "for name in user_name:\n",
    "    with open('../user_data_compare/' + name + '/session_4.json', 'r') as f:\n",
    "        data = json.load(f)\n",
    "\n",
    "    fake = ctx = 0\n",
    "    for d in data:\n",
    "        if d['trial_type'] == \"image-keyboard-compare\":\n",
    "            if (d['key_press'] == 49 and 'fake' in d['first_image']) or \\\n",
    "               (d['key_press'] == 50 and 'fake' in d['second_image']):\n",
    "                    fake += 1\n",
    "            elif (d['key_press'] == 49 and 'ctx' in d['first_image']) or \\\n",
    "               (d['key_press'] == 50 and 'ctx' in d['second_image']):\n",
    "                ctx += 1\n",
    "    print(fake, ctx)"
   ]
  }
 ],
 "metadata": {
  "kernelspec": {
   "display_name": "Python 3",
   "language": "python",
   "name": "python3"
  },
  "language_info": {
   "codemirror_mode": {
    "name": "ipython",
    "version": 3
   },
   "file_extension": ".py",
   "mimetype": "text/x-python",
   "name": "python",
   "nbconvert_exporter": "python",
   "pygments_lexer": "ipython3",
   "version": "3.6.5"
  }
 },
 "nbformat": 4,
 "nbformat_minor": 2
}
