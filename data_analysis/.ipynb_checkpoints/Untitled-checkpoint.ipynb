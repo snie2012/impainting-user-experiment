{
 "cells": [
  {
   "cell_type": "code",
   "execution_count": 1,
   "metadata": {},
   "outputs": [],
   "source": [
    "import json"
   ]
  },
  {
   "cell_type": "code",
   "execution_count": 11,
   "metadata": {},
   "outputs": [],
   "source": [
    "with open('../user_data_compare/111/session_1.json', 'r') as f:\n",
    "    data = json.load(f)\n",
    "\n",
    "fake = ctx = 0\n",
    "for d in data:\n",
    "    if d['trial_type'] == \"image-keyboard-compare\":\n",
    "        if (d['key_press'] == 49 and 'fake' in d['first_image']) or \\\n",
    "           (d['key_press'] == 50 and 'fake' in d['second_image']):\n",
    "                fake += 1\n",
    "        else:\n",
    "            ctx += 1"
   ]
  },
  {
   "cell_type": "code",
   "execution_count": 12,
   "metadata": {},
   "outputs": [
    {
     "ename": "TypeError",
     "evalue": "must be str, not int",
     "output_type": "error",
     "traceback": [
      "\u001b[0;31m---------------------------------------------------------------------------\u001b[0m",
      "\u001b[0;31mTypeError\u001b[0m                                 Traceback (most recent call last)",
      "\u001b[0;32m<ipython-input-12-4d6b698d8385>\u001b[0m in \u001b[0;36m<module>\u001b[0;34m()\u001b[0m\n\u001b[0;32m----> 1\u001b[0;31m \u001b[0mprint\u001b[0m\u001b[0;34m(\u001b[0m\u001b[0;34m'fake: '\u001b[0m \u001b[0;34m+\u001b[0m \u001b[0mfake\u001b[0m\u001b[0;34m,\u001b[0m \u001b[0;34m'ctx: '\u001b[0m \u001b[0;34m+\u001b[0m \u001b[0mctx\u001b[0m\u001b[0;34m)\u001b[0m\u001b[0;34m\u001b[0m\u001b[0m\n\u001b[0m",
      "\u001b[0;31mTypeError\u001b[0m: must be str, not int"
     ]
    }
   ],
   "source": [
    "print('fake: ' + fake, 'ctx: ' + ctx)"
   ]
  },
  {
   "cell_type": "code",
   "execution_count": 13,
   "metadata": {},
   "outputs": [],
   "source": [
    "with open('../user_data_compare/snie666/session_2.json', 'r') as f:\n",
    "    data = json.load(f)\n",
    "\n",
    "fake = ctx = 0\n",
    "for d in data:\n",
    "    if d['trial_type'] == \"image-keyboard-compare\":\n",
    "        if (d['key_press'] == 49 and 'fake' in d['first_image']) or \\\n",
    "           (d['key_press'] == 50 and 'fake' in d['second_image']):\n",
    "                fake += 1\n",
    "        elif (d['key_press'] == 49 and 'ctx' in d['first_image']) or \\\n",
    "           (d['key_press'] == 50 and 'ctx' in d['second_image']):\n",
    "            ctx += 1"
   ]
  },
  {
   "cell_type": "code",
   "execution_count": 14,
   "metadata": {},
   "outputs": [
    {
     "data": {
      "text/plain": [
       "17"
      ]
     },
     "execution_count": 14,
     "metadata": {},
     "output_type": "execute_result"
    }
   ],
   "source": [
    "ctx"
   ]
  },
  {
   "cell_type": "code",
   "execution_count": 15,
   "metadata": {},
   "outputs": [
    {
     "data": {
      "text/plain": [
       "44"
      ]
     },
     "execution_count": 15,
     "metadata": {},
     "output_type": "execute_result"
    }
   ],
   "source": [
    "fake"
   ]
  }
 ],
 "metadata": {
  "kernelspec": {
   "display_name": "Python 3",
   "language": "python",
   "name": "python3"
  },
  "language_info": {
   "codemirror_mode": {
    "name": "ipython",
    "version": 3
   },
   "file_extension": ".py",
   "mimetype": "text/x-python",
   "name": "python",
   "nbconvert_exporter": "python",
   "pygments_lexer": "ipython3",
   "version": "3.6.4"
  }
 },
 "nbformat": 4,
 "nbformat_minor": 2
}
