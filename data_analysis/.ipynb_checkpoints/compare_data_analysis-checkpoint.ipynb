{
 "cells": [
  {
   "cell_type": "code",
   "execution_count": 1,
   "metadata": {},
   "outputs": [],
   "source": [
    "import json\n",
    "import os"
   ]
  },
  {
   "cell_type": "code",
   "execution_count": 67,
   "metadata": {},
   "outputs": [],
   "source": [
    "user_name = os.listdir('../user_data_compare/')"
   ]
  },
  {
   "cell_type": "code",
   "execution_count": 68,
   "metadata": {},
   "outputs": [
    {
     "data": {
      "text/plain": [
       "['Shiou Tian Hsu',\n",
       " 'Qian Long',\n",
       " 'Yifan Yang',\n",
       " 'Jing Ao',\n",
       " 'Xing Pan',\n",
       " 'Ni An',\n",
       " 'Yan Liu',\n",
       " 'Li Shi',\n",
       " 'Richard Alias',\n",
       " 'Pengcheng Wang',\n",
       " 'caiping wei',\n",
       " 'Xiaozhuo Cheng',\n",
       " 'Pei-Shan Wu',\n",
       " 'Ruonan Yang',\n",
       " 'Alanna',\n",
       " 'Shuai Yang',\n",
       " 'Qing Xia',\n",
       " 'Ziwei Wu',\n",
       " 'Lei Tian',\n",
       " 'David Braudt',\n",
       " 'Jianfeng Chen',\n",
       " 'Zexi Chen',\n",
       " 'Di Hu',\n",
       " 'Liang Dong']"
      ]
     },
     "execution_count": 68,
     "metadata": {},
     "output_type": "execute_result"
    }
   ],
   "source": [
    "user_name"
   ]
  },
  {
   "cell_type": "code",
   "execution_count": 69,
   "metadata": {},
   "outputs": [
    {
     "data": {
      "text/plain": [
       "24"
      ]
     },
     "execution_count": 69,
     "metadata": {},
     "output_type": "execute_result"
    }
   ],
   "source": [
    "len(user_name)"
   ]
  },
  {
   "cell_type": "code",
   "execution_count": 70,
   "metadata": {},
   "outputs": [
    {
     "name": "stdout",
     "output_type": "stream",
     "text": [
      "Shiou Tian Hsu 83 17\n",
      "Qian Long 83 17\n",
      "Yifan Yang 84 16\n",
      "Jing Ao 88 12\n",
      "Xing Pan 79 21\n",
      "Ni An 81 19\n",
      "Yan Liu 81 19\n",
      "Li Shi 86 14\n",
      "Richard Alias 87 13\n",
      "Pengcheng Wang 85 15\n",
      "caiping wei 86 14\n",
      "Xiaozhuo Cheng 83 17\n",
      "Pei-Shan Wu 84 16\n",
      "Ruonan Yang 81 19\n",
      "Alanna 78 22\n",
      "Shuai Yang 85 15\n",
      "Qing Xia 89 11\n",
      "Ziwei Wu 80 20\n",
      "Lei Tian 85 15\n",
      "David Braudt 84 16\n",
      "Jianfeng Chen 73 27\n",
      "Zexi Chen 83 17\n",
      "Di Hu 90 10\n",
      "Liang Dong 77 23\n"
     ]
    }
   ],
   "source": [
    "for name in user_name:\n",
    "    with open('../user_data_compare/' + name + '/' + name + '_' + 'session_1.json', 'r') as f:\n",
    "        data = json.load(f)\n",
    "\n",
    "    fake = ctx = 0\n",
    "    for d in data:\n",
    "        if d['trial_type'] == \"image-keyboard-compare\":\n",
    "            if (d['key_press'] == 49 and 'fake' in d['first_image']) or \\\n",
    "               (d['key_press'] == 50 and 'fake' in d['second_image']):\n",
    "                    fake += 1\n",
    "            else:\n",
    "                ctx += 1\n",
    "    print(name, fake, ctx)"
   ]
  },
  {
   "cell_type": "code",
   "execution_count": 71,
   "metadata": {},
   "outputs": [
    {
     "name": "stdout",
     "output_type": "stream",
     "text": [
      "Shiou Tian Hsu 48 27\n",
      "Qian Long 44 28\n",
      "Yifan Yang 37 15\n",
      "Jing Ao 30 16\n",
      "Xing Pan 44 42\n",
      "Ni An 45 22\n",
      "Yan Liu 51 27\n",
      "Li Shi 47 25\n",
      "Richard Alias 23 23\n",
      "Pengcheng Wang 29 14\n",
      "caiping wei 39 12\n",
      "Xiaozhuo Cheng 52 39\n",
      "Pei-Shan Wu 42 35\n",
      "Ruonan Yang 45 42\n",
      "Alanna 41 33\n",
      "Shuai Yang 47 36\n",
      "Qing Xia 38 16\n",
      "Ziwei Wu 35 20\n",
      "Lei Tian 45 23\n",
      "David Braudt 48 24\n",
      "Jianfeng Chen 47 46\n",
      "Zexi Chen 34 17\n",
      "Di Hu 37 23\n",
      "Liang Dong 39 43\n"
     ]
    }
   ],
   "source": [
    "for name in user_name:\n",
    "    with open('../user_data_compare/' + name + '/' + name + '_' + 'session_2.json', 'r') as f:\n",
    "        data = json.load(f)\n",
    "\n",
    "    fake = ctx = 0\n",
    "    for d in data:\n",
    "        if d['trial_type'] == \"image-keyboard-compare\":\n",
    "            if (d['key_press'] == 49 and 'fake' in d['first_image']) or \\\n",
    "               (d['key_press'] == 50 and 'fake' in d['second_image']):\n",
    "                    fake += 1\n",
    "            elif (d['key_press'] == 49 and 'ctx' in d['first_image']) or \\\n",
    "               (d['key_press'] == 50 and 'ctx' in d['second_image']):\n",
    "                ctx += 1\n",
    "    print(name, fake, ctx)"
   ]
  },
  {
   "cell_type": "code",
   "execution_count": 72,
   "metadata": {},
   "outputs": [
    {
     "name": "stdout",
     "output_type": "stream",
     "text": [
      "Shiou Tian Hsu 28 14\n",
      "Qian Long 31 7\n",
      "Yifan Yang 25 4\n",
      "Jing Ao 11 2\n",
      "Xing Pan 40 14\n",
      "Ni An 24 12\n",
      "Yan Liu 36 22\n",
      "Li Shi 16 6\n",
      "Richard Alias 22 5\n",
      "Pengcheng Wang 20 14\n",
      "caiping wei 7 7\n",
      "Xiaozhuo Cheng 23 7\n",
      "Pei-Shan Wu 34 13\n",
      "Ruonan Yang 26 14\n",
      "Alanna 27 12\n",
      "Shuai Yang 14 10\n",
      "Qing Xia 22 9\n",
      "Ziwei Wu 17 7\n",
      "Lei Tian 28 4\n",
      "David Braudt 20 8\n",
      "Jianfeng Chen 52 27\n",
      "Zexi Chen 21 12\n",
      "Di Hu 13 8\n",
      "Liang Dong 36 19\n"
     ]
    }
   ],
   "source": [
    "for name in user_name:\n",
    "    with open('../user_data_compare/' + name + '/' + name + '_' + 'session_3.json', 'r') as f:\n",
    "        data = json.load(f)\n",
    "\n",
    "    fake = ctx = 0\n",
    "    for d in data:\n",
    "        if d['trial_type'] == \"image-keyboard-compare\":\n",
    "            if (d['key_press'] == 49 and 'fake' in d['first_image']) or \\\n",
    "               (d['key_press'] == 50 and 'fake' in d['second_image']):\n",
    "                    fake += 1\n",
    "            elif (d['key_press'] == 49 and 'ctx' in d['first_image']) or \\\n",
    "               (d['key_press'] == 50 and 'ctx' in d['second_image']):\n",
    "                ctx += 1\n",
    "    print(name, fake, ctx)"
   ]
  },
  {
   "cell_type": "code",
   "execution_count": 73,
   "metadata": {},
   "outputs": [
    {
     "name": "stdout",
     "output_type": "stream",
     "text": [
      "Shiou Tian Hsu 26 12\n",
      "Qian Long 21 9\n",
      "Yifan Yang 15 3\n",
      "Jing Ao 5 4\n",
      "Xing Pan 32 6\n",
      "Ni An 15 10\n",
      "Yan Liu 26 11\n",
      "Li Shi 13 3\n",
      "Richard Alias 12 1\n",
      "Pengcheng Wang 10 4\n",
      "caiping wei 6 0\n",
      "Xiaozhuo Cheng 19 5\n",
      "Pei-Shan Wu 21 7\n",
      "Ruonan Yang 19 6\n",
      "Alanna 11 7\n",
      "Shuai Yang 6 0\n",
      "Qing Xia 11 7\n",
      "Ziwei Wu 12 4\n",
      "Lei Tian 17 2\n",
      "David Braudt 11 1\n",
      "Jianfeng Chen 47 28\n",
      "Zexi Chen 10 3\n",
      "Di Hu 22 7\n",
      "Liang Dong 35 19\n"
     ]
    }
   ],
   "source": [
    "for name in user_name:\n",
    "    with open('../user_data_compare/' + name + '/' + name + '_' + 'session_4.json', 'r') as f:\n",
    "        data = json.load(f)\n",
    "\n",
    "    fake = ctx = 0\n",
    "    for d in data:\n",
    "        if d['trial_type'] == \"image-keyboard-compare\":\n",
    "            if (d['key_press'] == 49 and 'fake' in d['first_image']) or \\\n",
    "               (d['key_press'] == 50 and 'fake' in d['second_image']):\n",
    "                    fake += 1\n",
    "            elif (d['key_press'] == 49 and 'ctx' in d['first_image']) or \\\n",
    "               (d['key_press'] == 50 and 'ctx' in d['second_image']):\n",
    "                ctx += 1\n",
    "    print(name, fake, ctx)"
   ]
  }
 ],
 "metadata": {
  "kernelspec": {
   "display_name": "Python 3",
   "language": "python",
   "name": "python3"
  },
  "language_info": {
   "codemirror_mode": {
    "name": "ipython",
    "version": 3
   },
   "file_extension": ".py",
   "mimetype": "text/x-python",
   "name": "python",
   "nbconvert_exporter": "python",
   "pygments_lexer": "ipython3",
   "version": "3.6.5"
  }
 },
 "nbformat": 4,
 "nbformat_minor": 2
}
