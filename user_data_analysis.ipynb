{
 "cells": [
  {
   "cell_type": "code",
   "execution_count": 83,
   "metadata": {},
   "outputs": [],
   "source": [
    "import json\n",
    "import os\n",
    "import collections\n",
    "import seaborn as sns"
   ]
  },
  {
   "cell_type": "code",
   "execution_count": 84,
   "metadata": {},
   "outputs": [],
   "source": [
    "%matplotlib inline\n",
    "import matplotlib.pyplot as plt"
   ]
  },
  {
   "cell_type": "code",
   "execution_count": 128,
   "metadata": {},
   "outputs": [
    {
     "name": "stdout",
     "output_type": "stream",
     "text": [
      "number of subjects: 14\n",
      "number of covered images: 1145\n",
      "coverage rate: 0.38166666666666665\n"
     ]
    }
   ],
   "source": [
    "files = os.listdir('user_data/')\n",
    "covered = set()\n",
    "count = 0\n",
    "r1, r2, r3 = [], [], []\n",
    "for name in files:\n",
    "    if not '.json' in name: pass\n",
    "    # print(name)\n",
    "    count += 1\n",
    "    with open('user_data/' + name, 'r') as f:\n",
    "        d = json.load(f)\n",
    "        for item in d:\n",
    "            if 'rank_result' in item:\n",
    "                covered.add(item['rank_result'][0].split('/')[1].split('_')[0])\n",
    "                t = [i.split('/')[0] for i in item['rank_result']]\n",
    "                r1.append(t[0])\n",
    "                r2.append(t[1])\n",
    "                r3.append(t[2])\n",
    "print('number of subjects:', count)\n",
    "print('number of covered images:', len(covered))\n",
    "print('coverage rate:', len(covered) / 3000)"
   ]
  },
  {
   "cell_type": "code",
   "execution_count": 129,
   "metadata": {},
   "outputs": [],
   "source": [
    "r1 = collections.Counter(r1)\n",
    "r2 = collections.Counter(r2)\n",
    "r3 = collections.Counter(r3)"
   ]
  },
  {
   "cell_type": "code",
   "execution_count": 130,
   "metadata": {
    "scrolled": true
   },
   "outputs": [
    {
     "data": {
      "text/plain": [
       "Counter({'ce': 156, 'gl': 156, 'ours': 1088})"
      ]
     },
     "execution_count": 130,
     "metadata": {},
     "output_type": "execute_result"
    }
   ],
   "source": [
    "r1"
   ]
  },
  {
   "cell_type": "code",
   "execution_count": 133,
   "metadata": {},
   "outputs": [
    {
     "name": "stdout",
     "output_type": "stream",
     "text": [
      "ours 1400\n",
      "ce 1400\n",
      "gl 1400\n"
     ]
    }
   ],
   "source": [
    "for key in r1:\n",
    "    print(key, r1[key] + r2[key] + r3[key])"
   ]
  },
  {
   "cell_type": "code",
   "execution_count": 131,
   "metadata": {},
   "outputs": [
    {
     "data": {
      "text/plain": [
       "<Container object of 3 artists>"
      ]
     },
     "execution_count": 131,
     "metadata": {},
     "output_type": "execute_result"
    },
    {
     "data": {
      "image/png": "[encoded data removed]",
      "text/plain": [
       "<matplotlib.figure.Figure at 0x12092f240>"
      ]
     },
     "metadata": {},
     "output_type": "display_data"
    }
   ],
   "source": [
    "t = dict(r1)\n",
    "plt.bar(x=list(t.keys()), height=list(t.values()))"
   ]
  }
 ],
 "metadata": {
  "kernelspec": {
   "display_name": "Python 3",
   "language": "python",
   "name": "python3"
  },
  "language_info": {
   "codemirror_mode": {
    "name": "ipython",
    "version": 3
   },
   "file_extension": ".py",
   "mimetype": "text/x-python",
   "name": "python",
   "nbconvert_exporter": "python",
   "pygments_lexer": "ipython3",
   "version": "3.6.4"
  }
 },
 "nbformat": 4,
 "nbformat_minor": 2
}
