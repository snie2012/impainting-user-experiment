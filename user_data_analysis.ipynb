{
 "cells": [
  {
   "cell_type": "code",
   "execution_count": 1,
   "metadata": {},
   "outputs": [],
   "source": [
    "import json\n",
    "import os\n",
    "import collections\n",
    "import pandas as pd\n",
    "from altair import *"
   ]
  },
  {
   "cell_type": "code",
   "execution_count": 2,
   "metadata": {},
   "outputs": [],
   "source": [
    "%matplotlib inline\n",
    "import matplotlib.pyplot as plt"
   ]
  },
  {
   "cell_type": "code",
   "execution_count": 205,
   "metadata": {},
   "outputs": [],
   "source": [
    "def pd2alt(df):\n",
    "    return Data(values = df.to_dict('records'))"
   ]
  },
  {
   "cell_type": "code",
   "execution_count": 321,
   "metadata": {},
   "outputs": [],
   "source": [
    "keys = ['ours', 'ce', 'gl']"
   ]
  },
  {
   "cell_type": "code",
   "execution_count": 336,
   "metadata": {},
   "outputs": [
    {
     "name": "stdout",
     "output_type": "stream",
     "text": [
      "number of subjects: 32\n",
      "number of covered images: 2018\n",
      "coverage rate: 0.6726666666666666\n"
     ]
    }
   ],
   "source": [
    "files = os.listdir('user_data/')\n",
    "covered = set()\n",
    "count = 0\n",
    "statsdict = collections.defaultdict(list)\n",
    "r1, r2, r3 = [], [], []\n",
    "for name in files:\n",
    "    if '.json' not in name: continue\n",
    "    # print(name)\n",
    "    count += 1\n",
    "    with open('user_data/' + name, 'r') as f:\n",
    "        d = json.load(f)\n",
    "        tmpDict = collections.defaultdict(int)\n",
    "        numItem = 0\n",
    "        for item in d:\n",
    "            if 'rank_result' in item:\n",
    "                covered.add(item['rank_result'][0].split('/')[1].split('_')[0])\n",
    "                t = [i.split('/')[0] for i in item['rank_result']]\n",
    "                tmpDict[t[0]] += 1; numItem += 1\n",
    "                r1.append(t[0])\n",
    "                r2.append(t[1])\n",
    "                r3.append(t[2])\n",
    "        for key in keys:\n",
    "            statsdict[key].append(tmpDict[key]/numItem if key in tmpDict else 0)\n",
    "print('number of subjects:', count)\n",
    "print('number of covered images:', len(covered))\n",
    "print('coverage rate:', len(covered) / 3000)"
   ]
  },
  {
   "cell_type": "code",
   "execution_count": 261,
   "metadata": {},
   "outputs": [],
   "source": [
    "import scipy\n",
    "from statsmodels.stats.multicomp import pairwise_tukeyhsd\n",
    "import numpy as np"
   ]
  },
  {
   "cell_type": "code",
   "execution_count": 349,
   "metadata": {},
   "outputs": [],
   "source": [
    "turkey_data = []\n",
    "for key in statsdict:\n",
    "    for val in statsdict[key]:\n",
    "        turkey_data.append((key, val))\n",
    "turkey_df = pd.DataFrame(turkey_data)"
   ]
  },
  {
   "cell_type": "code",
   "execution_count": 329,
   "metadata": {
    "scrolled": true
   },
   "outputs": [
    {
     "data": {
      "text/plain": [
       "F_onewayResult(statistic=300.08025417535657, pvalue=2.7269983212374945e-41)"
      ]
     },
     "execution_count": 329,
     "metadata": {},
     "output_type": "execute_result"
    }
   ],
   "source": [
    "scipy.stats.f_oneway(statsdict['ours'], statsdict['ce'], statsdict['gl'])"
   ]
  },
  {
   "cell_type": "code",
   "execution_count": 402,
   "metadata": {
    "scrolled": true
   },
   "outputs": [],
   "source": [
    "summary = pairwise_tukeyhsd(turkey_df[1], turkey_df[0]).summary()"
   ]
  },
  {
   "cell_type": "code",
   "execution_count": 431,
   "metadata": {},
   "outputs": [],
   "source": [
    "ts = summary.as_csv().split('\\n')[1:]\n",
    "ts = [s.split(',') for s in ts]"
   ]
  },
  {
   "cell_type": "code",
   "execution_count": 437,
   "metadata": {},
   "outputs": [],
   "source": [
    "tdf = pd.DataFrame(ts, columns=ts[0])"
   ]
  },
  {
   "cell_type": "code",
   "execution_count": 438,
   "metadata": {},
   "outputs": [],
   "source": [
    "tdf.drop(tdf.index[0], inplace=True)"
   ]
  },
  {
   "cell_type": "code",
   "execution_count": 443,
   "metadata": {},
   "outputs": [],
   "source": [
    "tdf.to_csv('Tukey.csv', index=False, sep='\\t')"
   ]
  },
  {
   "cell_type": "code",
   "execution_count": 246,
   "metadata": {},
   "outputs": [],
   "source": [
    "r1 = collections.Counter(r1)\n",
    "r2 = collections.Counter(r2)\n",
    "r3 = collections.Counter(r3)\n",
    "total = sum(r1[k] for k in r1)"
   ]
  },
  {
   "cell_type": "code",
   "execution_count": 247,
   "metadata": {},
   "outputs": [
    {
     "data": {
      "text/plain": [
       "Counter({'ce': 315, 'gl': 265, 'ours': 2620})"
      ]
     },
     "execution_count": 247,
     "metadata": {},
     "output_type": "execute_result"
    }
   ],
   "source": [
    "r1"
   ]
  },
  {
   "cell_type": "code",
   "execution_count": 248,
   "metadata": {},
   "outputs": [],
   "source": [
    "plot_data = []\n",
    "for k in dict(r1):\n",
    "    plot_data.append({\n",
    "        'rank': '1st',\n",
    "        'method': k.upper(),\n",
    "        'count': dict(r1)[k]\n",
    "    })\n",
    "\n",
    "for k in dict(r2):\n",
    "    plot_data.append({\n",
    "        'rank': '2nd',\n",
    "        'method': k.upper(),\n",
    "        'count': dict(r2)[k]\n",
    "    })\n",
    "\n",
    "for k in dict(r3):\n",
    "    plot_data.append({\n",
    "        'rank': '3rd',\n",
    "        'method': k.upper(),\n",
    "        'count': dict(r3)[k]\n",
    "    })"
   ]
  },
  {
   "cell_type": "code",
   "execution_count": 372,
   "metadata": {},
   "outputs": [],
   "source": [
    "df = pd.DataFrame(plot_data)\n",
    "df['percentage'] = df['count'].apply(lambda x: x / total)\n",
    "df['formatted_percentage'] = pd.Series([\"{0:.01%}\".format(val) for val in df['percentage']], index = df.index)\n",
    "df['method_order'] = [0 if m=='OURS' else 1 if m=='CE' else 2 for m in df['method']]"
   ]
  },
  {
   "cell_type": "code",
   "execution_count": 252,
   "metadata": {},
   "outputs": [],
   "source": [
    "with open(\"rank_plot.vg.json\", 'r') as f:\n",
    "    vega_scheme = json.load(f)\n",
    "    vega_scheme['data'] = json.loads(pd2alt(df).to_json())\n",
    "with open(\"rank_plot.vg.json\", 'w') as f:\n",
    "    json.dump(vega_scheme, f)"
   ]
  },
  {
   "cell_type": "code",
   "execution_count": 400,
   "metadata": {},
   "outputs": [],
   "source": [
    "df.to_csv('stacked_bar.csv', index=False)"
   ]
  },
  {
   "cell_type": "code",
   "execution_count": 380,
   "metadata": {},
   "outputs": [
    {
     "data": {
      "text/plain": [
       "1    GL\n",
       "4    GL\n",
       "6    GL\n",
       "Name: method, dtype: object"
      ]
     },
     "execution_count": 380,
     "metadata": {},
     "output_type": "execute_result"
    }
   ],
   "source": [
    "df['method'][lambda k: k == 'GL']"
   ]
  },
  {
   "cell_type": "code",
   "execution_count": 397,
   "metadata": {},
   "outputs": [],
   "source": [
    "df['rank_order'] = [2 if st=='1st' else 1 if st=='2nd' else 0 for st in df['rank']]"
   ]
  },
  {
   "cell_type": "code",
   "execution_count": 398,
   "metadata": {},
   "outputs": [
    {
     "data": {
      "text/html": [
       "<div>\n",
       "<style scoped>\n",
       "    .dataframe tbody tr th:only-of-type {\n",
       "        vertical-align: middle;\n",
       "    }\n",
       "\n",
       "    .dataframe tbody tr th {\n",
       "        vertical-align: top;\n",
       "    }\n",
       "\n",
       "    .dataframe thead th {\n",
       "        text-align: right;\n",
       "    }\n",
       "</style>\n",
       "<table border=\"1\" class=\"dataframe\">\n",
       "  <thead>\n",
       "    <tr style=\"text-align: right;\">\n",
       "      <th></th>\n",
       "      <th>count</th>\n",
       "      <th>method</th>\n",
       "      <th>rank</th>\n",
       "      <th>percentage</th>\n",
       "      <th>formatted_percentage</th>\n",
       "      <th>method_order</th>\n",
       "      <th>rank_order</th>\n",
       "    </tr>\n",
       "  </thead>\n",
       "  <tbody>\n",
       "    <tr>\n",
       "      <th>0</th>\n",
       "      <td>2620</td>\n",
       "      <td>OURS</td>\n",
       "      <td>1st</td>\n",
       "      <td>0.818750</td>\n",
       "      <td>81.9%</td>\n",
       "      <td>0</td>\n",
       "      <td>2</td>\n",
       "    </tr>\n",
       "    <tr>\n",
       "      <th>1</th>\n",
       "      <td>265</td>\n",
       "      <td>GL</td>\n",
       "      <td>1st</td>\n",
       "      <td>0.082812</td>\n",
       "      <td>8.3%</td>\n",
       "      <td>2</td>\n",
       "      <td>2</td>\n",
       "    </tr>\n",
       "    <tr>\n",
       "      <th>2</th>\n",
       "      <td>315</td>\n",
       "      <td>CE</td>\n",
       "      <td>1st</td>\n",
       "      <td>0.098437</td>\n",
       "      <td>9.8%</td>\n",
       "      <td>1</td>\n",
       "      <td>2</td>\n",
       "    </tr>\n",
       "    <tr>\n",
       "      <th>3</th>\n",
       "      <td>1628</td>\n",
       "      <td>CE</td>\n",
       "      <td>2nd</td>\n",
       "      <td>0.508750</td>\n",
       "      <td>50.9%</td>\n",
       "      <td>1</td>\n",
       "      <td>1</td>\n",
       "    </tr>\n",
       "    <tr>\n",
       "      <th>4</th>\n",
       "      <td>1170</td>\n",
       "      <td>GL</td>\n",
       "      <td>2nd</td>\n",
       "      <td>0.365625</td>\n",
       "      <td>36.6%</td>\n",
       "      <td>2</td>\n",
       "      <td>1</td>\n",
       "    </tr>\n",
       "    <tr>\n",
       "      <th>5</th>\n",
       "      <td>402</td>\n",
       "      <td>OURS</td>\n",
       "      <td>2nd</td>\n",
       "      <td>0.125625</td>\n",
       "      <td>12.6%</td>\n",
       "      <td>0</td>\n",
       "      <td>1</td>\n",
       "    </tr>\n",
       "    <tr>\n",
       "      <th>6</th>\n",
       "      <td>1765</td>\n",
       "      <td>GL</td>\n",
       "      <td>3rd</td>\n",
       "      <td>0.551562</td>\n",
       "      <td>55.2%</td>\n",
       "      <td>2</td>\n",
       "      <td>0</td>\n",
       "    </tr>\n",
       "    <tr>\n",
       "      <th>7</th>\n",
       "      <td>1257</td>\n",
       "      <td>CE</td>\n",
       "      <td>3rd</td>\n",
       "      <td>0.392813</td>\n",
       "      <td>39.3%</td>\n",
       "      <td>1</td>\n",
       "      <td>0</td>\n",
       "    </tr>\n",
       "    <tr>\n",
       "      <th>8</th>\n",
       "      <td>178</td>\n",
       "      <td>OURS</td>\n",
       "      <td>3rd</td>\n",
       "      <td>0.055625</td>\n",
       "      <td>5.6%</td>\n",
       "      <td>0</td>\n",
       "      <td>0</td>\n",
       "    </tr>\n",
       "  </tbody>\n",
       "</table>\n",
       "</div>"
      ],
      "text/plain": [
       "   count method rank  percentage formatted_percentage  method_order  \\\n",
       "0   2620   OURS  1st    0.818750                81.9%             0   \n",
       "1    265     GL  1st    0.082812                 8.3%             2   \n",
       "2    315     CE  1st    0.098437                 9.8%             1   \n",
       "3   1628     CE  2nd    0.508750                50.9%             1   \n",
       "4   1170     GL  2nd    0.365625                36.6%             2   \n",
       "5    402   OURS  2nd    0.125625                12.6%             0   \n",
       "6   1765     GL  3rd    0.551562                55.2%             2   \n",
       "7   1257     CE  3rd    0.392813                39.3%             1   \n",
       "8    178   OURS  3rd    0.055625                 5.6%             0   \n",
       "\n",
       "   rank_order  \n",
       "0           2  \n",
       "1           2  \n",
       "2           2  \n",
       "3           1  \n",
       "4           1  \n",
       "5           1  \n",
       "6           0  \n",
       "7           0  \n",
       "8           0  "
      ]
     },
     "execution_count": 398,
     "metadata": {},
     "output_type": "execute_result"
    }
   ],
   "source": [
    "df"
   ]
  },
  {
   "cell_type": "code",
   "execution_count": 399,
   "metadata": {},
   "outputs": [
    {
     "data": {
      "text/html": [
       "<div class=\"vega-embed\" id=\"5d18445f-de65-43cf-8c1f-66e03aa088f3\"></div>\n",
       "\n",
       "<style>\n",
       ".vega-embed svg, .vega-embed canvas {\n",
       "  border: 1px dotted gray;\n",
       "}\n",
       "\n",
       ".vega-embed .vega-actions a {\n",
       "  margin-right: 6px;\n",
       "}\n",
       "</style>\n"
      ]
     },
     "metadata": {
      "jupyter-vega": "#5d18445f-de65-43cf-8c1f-66e03aa088f3"
     },
     "output_type": "display_data"
    },
    {
     "data": {
      "application/javascript": [
       "var spec = {\"config\": {\"cell\": {\"width\": 500, \"height\": 350}}, \"encoding\": {\"color\": {\"field\": \"rank\", \"legend\": {\"title\": \"Rankings\"}, \"scale\": {\"domain\": [\"1st\", \"2nd\", \"3rd\"], \"range\": [\"#aec7e8\", \"#1f77b4\", \"#9467bd\"]}, \"type\": \"nominal\"}, \"x\": {\"axis\": {\"title\": \"Methods\"}, \"field\": \"method\", \"sort\": \"descending\", \"type\": \"nominal\"}, \"y\": {\"field\": \"percentage\", \"type\": \"quantitative\"}}, \"mark\": \"bar\", \"data\": {\"values\": [{\"count\": 2620, \"method\": \"OURS\", \"rank\": \"1st\", \"percentage\": 0.81875, \"formatted_percentage\": \"81.9%\", \"method_order\": 0, \"rank_order\": 2}, {\"count\": 265, \"method\": \"GL\", \"rank\": \"1st\", \"percentage\": 0.0828125, \"formatted_percentage\": \"8.3%\", \"method_order\": 2, \"rank_order\": 2}, {\"count\": 315, \"method\": \"CE\", \"rank\": \"1st\", \"percentage\": 0.0984375, \"formatted_percentage\": \"9.8%\", \"method_order\": 1, \"rank_order\": 2}, {\"count\": 1628, \"method\": \"CE\", \"rank\": \"2nd\", \"percentage\": 0.50875, \"formatted_percentage\": \"50.9%\", \"method_order\": 1, \"rank_order\": 1}, {\"count\": 1170, \"method\": \"GL\", \"rank\": \"2nd\", \"percentage\": 0.365625, \"formatted_percentage\": \"36.6%\", \"method_order\": 2, \"rank_order\": 1}, {\"count\": 402, \"method\": \"OURS\", \"rank\": \"2nd\", \"percentage\": 0.125625, \"formatted_percentage\": \"12.6%\", \"method_order\": 0, \"rank_order\": 1}, {\"count\": 1765, \"method\": \"GL\", \"rank\": \"3rd\", \"percentage\": 0.5515625, \"formatted_percentage\": \"55.2%\", \"method_order\": 2, \"rank_order\": 0}, {\"count\": 1257, \"method\": \"CE\", \"rank\": \"3rd\", \"percentage\": 0.3928125, \"formatted_percentage\": \"39.3%\", \"method_order\": 1, \"rank_order\": 0}, {\"count\": 178, \"method\": \"OURS\", \"rank\": \"3rd\", \"percentage\": 0.055625, \"formatted_percentage\": \"5.6%\", \"method_order\": 0, \"rank_order\": 0}]}, \"$schema\": \"https://vega.github.io/schema/vega-lite/v1.2.1.json\"};\n",
       "var selector = \"#5d18445f-de65-43cf-8c1f-66e03aa088f3\";\n",
       "var type = \"vega-lite\";\n",
       "\n",
       "var output_area = this;\n",
       "require(['nbextensions/jupyter-vega/index'], function(vega) {\n",
       "  vega.render(selector, spec, type, output_area);\n",
       "}, function (err) {\n",
       "  if (err.requireType !== 'scripterror') {\n",
       "    throw(err);\n",
       "  }\n",
       "});\n"
      ]
     },
     "metadata": {
      "jupyter-vega": "#5d18445f-de65-43cf-8c1f-66e03aa088f3"
     },
     "output_type": "display_data"
    },
    {
     "data": {
      "image/png": "[encoded data removed]"
     },
     "metadata": {
      "jupyter-vega": "#5d18445f-de65-43cf-8c1f-66e03aa088f3"
     },
     "output_type": "display_data"
    }
   ],
   "source": [
    "Chart(df).mark_bar().encode(\n",
    "    color=Color('rank:N',\n",
    "                legend=Legend(title='Rankings'),\n",
    "                scale=Scale(\n",
    "                    domain=['1st', '2nd', '3rd'],\n",
    "                    range=['#aec7e8', '#1f77b4', '#9467bd'],\n",
    "                ),\n",
    "               ),\n",
    "    x=X('method:N', sort='descending', axis=Axis(title='Methods')),\n",
    "    y=Y('percentage:Q')\n",
    ")"
   ]
  }
 ],
 "metadata": {
  "kernelspec": {
   "display_name": "Python 3",
   "language": "python",
   "name": "python3"
  },
  "language_info": {
   "codemirror_mode": {
    "name": "ipython",
    "version": 3
   },
   "file_extension": ".py",
   "mimetype": "text/x-python",
   "name": "python",
   "nbconvert_exporter": "python",
   "pygments_lexer": "ipython3",
   "version": "3.6.4"
  }
 },
 "nbformat": 4,
 "nbformat_minor": 2
}
