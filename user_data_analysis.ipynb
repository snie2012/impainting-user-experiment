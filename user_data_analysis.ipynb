{
 "cells": [
  {
   "cell_type": "code",
   "execution_count": 1,
   "metadata": {},
   "outputs": [],
   "source": [
    "import json\n",
    "import os\n",
    "import collections\n",
    "import pandas as pd\n",
    "from altair import *"
   ]
  },
  {
   "cell_type": "code",
   "execution_count": 2,
   "metadata": {},
   "outputs": [],
   "source": [
    "%matplotlib inline\n",
    "import matplotlib.pyplot as plt"
   ]
  },
  {
   "cell_type": "code",
   "execution_count": 205,
   "metadata": {},
   "outputs": [],
   "source": [
    "def pd2alt(df):\n",
    "    return Data(values = df.to_dict('records'))"
   ]
  },
  {
   "cell_type": "code",
   "execution_count": 321,
   "metadata": {},
   "outputs": [],
   "source": [
    "keys = ['ours', 'ce', 'gl']"
   ]
  },
  {
   "cell_type": "code",
   "execution_count": 336,
   "metadata": {},
   "outputs": [
    {
     "name": "stdout",
     "output_type": "stream",
     "text": [
      "number of subjects: 32\n",
      "number of covered images: 2018\n",
      "coverage rate: 0.6726666666666666\n"
     ]
    }
   ],
   "source": [
    "files = os.listdir('user_data/')\n",
    "covered = set()\n",
    "count = 0\n",
    "statsdict = collections.defaultdict(list)\n",
    "r1, r2, r3 = [], [], []\n",
    "for name in files:\n",
    "    if '.json' not in name: continue\n",
    "    # print(name)\n",
    "    count += 1\n",
    "    with open('user_data/' + name, 'r') as f:\n",
    "        d = json.load(f)\n",
    "        tmpDict = collections.defaultdict(int)\n",
    "        numItem = 0\n",
    "        for item in d:\n",
    "            if 'rank_result' in item:\n",
    "                covered.add(item['rank_result'][0].split('/')[1].split('_')[0])\n",
    "                t = [i.split('/')[0] for i in item['rank_result']]\n",
    "                tmpDict[t[0]] += 1; numItem += 1\n",
    "                r1.append(t[0])\n",
    "                r2.append(t[1])\n",
    "                r3.append(t[2])\n",
    "        for key in keys:\n",
    "            statsdict[key].append(tmpDict[key]/numItem if key in tmpDict else 0)\n",
    "print('number of subjects:', count)\n",
    "print('number of covered images:', len(covered))\n",
    "print('coverage rate:', len(covered) / 3000)"
   ]
  },
  {
   "cell_type": "code",
   "execution_count": 261,
   "metadata": {},
   "outputs": [],
   "source": [
    "import scipy\n",
    "from statsmodels.stats.multicomp import pairwise_tukeyhsd\n",
    "import numpy as np"
   ]
  },
  {
   "cell_type": "code",
   "execution_count": 349,
   "metadata": {},
   "outputs": [],
   "source": [
    "turkey_data = []\n",
    "for key in statsdict:\n",
    "    for val in statsdict[key]:\n",
    "        turkey_data.append((key, val))\n",
    "turkey_df = pd.DataFrame(turkey_data)"
   ]
  },
  {
   "cell_type": "code",
   "execution_count": 329,
   "metadata": {},
   "outputs": [
    {
     "data": {
      "text/plain": [
       "F_onewayResult(statistic=300.08025417535657, pvalue=2.7269983212374945e-41)"
      ]
     },
     "execution_count": 329,
     "metadata": {},
     "output_type": "execute_result"
    }
   ],
   "source": [
    "scipy.stats.f_oneway(statsdict['ours'], statsdict['ce'], statsdict['gl'])"
   ]
  },
  {
   "cell_type": "code",
   "execution_count": 371,
   "metadata": {},
   "outputs": [
    {
     "data": {
      "text/html": [
       "<table class=\"simpletable\">\n",
       "<caption>Multiple Comparison of Means - Tukey HSD,FWER=0.05</caption>\n",
       "<tr>\n",
       "  <th>group1</th> <th>group2</th> <th>meandiff</th>  <th>lower</th>   <th>upper</th> <th>reject</th>\n",
       "</tr>\n",
       "<tr>\n",
       "    <td>ce</td>     <td>gl</td>    <td>-0.0156</td> <td>-0.0974</td> <td>0.0661</td>  <td>False</td>\n",
       "</tr>\n",
       "<tr>\n",
       "    <td>ce</td>    <td>ours</td>   <td>0.7203</td>  <td>0.6386</td>  <td>0.8021</td>  <td>True</td> \n",
       "</tr>\n",
       "<tr>\n",
       "    <td>gl</td>    <td>ours</td>   <td>0.7359</td>  <td>0.6542</td>  <td>0.8177</td>  <td>True</td> \n",
       "</tr>\n",
       "</table>"
      ],
      "text/plain": [
       "<class 'statsmodels.iolib.table.SimpleTable'>"
      ]
     },
     "execution_count": 371,
     "metadata": {},
     "output_type": "execute_result"
    }
   ],
   "source": [
    "pairwise_tukeyhsd(turkey_df[1], turkey_df[0]).summary()"
   ]
  },
  {
   "cell_type": "code",
   "execution_count": 246,
   "metadata": {},
   "outputs": [],
   "source": [
    "r1 = collections.Counter(r1)\n",
    "r2 = collections.Counter(r2)\n",
    "r3 = collections.Counter(r3)\n",
    "total = sum(r1[k] for k in r1)"
   ]
  },
  {
   "cell_type": "code",
   "execution_count": 247,
   "metadata": {},
   "outputs": [
    {
     "data": {
      "text/plain": [
       "Counter({'ce': 315, 'gl': 265, 'ours': 2620})"
      ]
     },
     "execution_count": 247,
     "metadata": {},
     "output_type": "execute_result"
    }
   ],
   "source": [
    "r1"
   ]
  },
  {
   "cell_type": "code",
   "execution_count": 248,
   "metadata": {},
   "outputs": [],
   "source": [
    "plot_data = []\n",
    "for k in dict(r1):\n",
    "    plot_data.append({\n",
    "        'rank': '1st',\n",
    "        'method': k.upper(),\n",
    "        'count': dict(r1)[k]\n",
    "    })\n",
    "\n",
    "for k in dict(r2):\n",
    "    plot_data.append({\n",
    "        'rank': '2nd',\n",
    "        'method': k.upper(),\n",
    "        'count': dict(r2)[k]\n",
    "    })\n",
    "\n",
    "for k in dict(r3):\n",
    "    plot_data.append({\n",
    "        'rank': '3rd',\n",
    "        'method': k.upper(),\n",
    "        'count': dict(r3)[k]\n",
    "    })"
   ]
  },
  {
   "cell_type": "code",
   "execution_count": 249,
   "metadata": {},
   "outputs": [],
   "source": [
    "df = pd.DataFrame(plot_data)\n",
    "df['percentage'] = df['count'].apply(lambda x: x / total)\n",
    "df['formatted_percentage'] = pd.Series([\"{0:.01%}\".format(val) for val in df['percentage']], index = df.index)\n",
    "df['method_order'] = [0 if m=='OURS' else 1 if m=='CE' else 2 for m in df['method']]"
   ]
  },
  {
   "cell_type": "code",
   "execution_count": 252,
   "metadata": {},
   "outputs": [],
   "source": [
    "with open(\"rank_plot.vg.json\", 'r') as f:\n",
    "    vega_scheme = json.load(f)\n",
    "    vega_scheme['data'] = json.loads(pd2alt(df).to_json())\n",
    "with open(\"rank_plot.vg.json\", 'w') as f:\n",
    "    json.dump(vega_scheme, f)"
   ]
  }
 ],
 "metadata": {
  "kernelspec": {
   "display_name": "Python 3",
   "language": "python",
   "name": "python3"
  },
  "language_info": {
   "codemirror_mode": {
    "name": "ipython",
    "version": 3
   },
   "file_extension": ".py",
   "mimetype": "text/x-python",
   "name": "python",
   "nbconvert_exporter": "python",
   "pygments_lexer": "ipython3",
   "version": "3.6.4"
  }
 },
 "nbformat": 4,
 "nbformat_minor": 2
}
