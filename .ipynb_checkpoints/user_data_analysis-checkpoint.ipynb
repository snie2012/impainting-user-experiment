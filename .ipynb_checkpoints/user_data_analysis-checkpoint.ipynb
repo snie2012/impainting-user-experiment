{
 "cells": [
  {
   "cell_type": "code",
   "execution_count": 1,
   "metadata": {},
   "outputs": [],
   "source": [
    "import json\n",
    "import os\n",
    "import collections\n",
    "import pandas as pd\n",
    "from altair import *"
   ]
  },
  {
   "cell_type": "code",
   "execution_count": 2,
   "metadata": {},
   "outputs": [],
   "source": [
    "%matplotlib inline\n",
    "import matplotlib.pyplot as plt"
   ]
  },
  {
   "cell_type": "code",
   "execution_count": 3,
   "metadata": {},
   "outputs": [
    {
     "name": "stdout",
     "output_type": "stream",
     "text": [
      "number of subjects: 26\n",
      "number of covered images: 1794\n",
      "coverage rate: 0.598\n"
     ]
    }
   ],
   "source": [
    "files = os.listdir('user_data/')\n",
    "covered = set()\n",
    "count = 0\n",
    "r1, r2, r3 = [], [], []\n",
    "for name in files:\n",
    "    if '.json' not in name: continue\n",
    "    # print(name)\n",
    "    count += 1\n",
    "    with open('user_data/' + name, 'r') as f:\n",
    "        d = json.load(f)\n",
    "        for item in d:\n",
    "            if 'rank_result' in item:\n",
    "                covered.add(item['rank_result'][0].split('/')[1].split('_')[0])\n",
    "                t = [i.split('/')[0] for i in item['rank_result']]\n",
    "                r1.append(t[0])\n",
    "                r2.append(t[1])\n",
    "                r3.append(t[2])\n",
    "print('number of subjects:', count)\n",
    "print('number of covered images:', len(covered))\n",
    "print('coverage rate:', len(covered) / 3000)"
   ]
  },
  {
   "cell_type": "code",
   "execution_count": 4,
   "metadata": {},
   "outputs": [],
   "source": [
    "r1 = collections.Counter(r1)\n",
    "r2 = collections.Counter(r2)\n",
    "r3 = collections.Counter(r3)"
   ]
  },
  {
   "cell_type": "code",
   "execution_count": 5,
   "metadata": {
    "scrolled": true
   },
   "outputs": [],
   "source": [
    "total = sum(r1[k] for k in r1)"
   ]
  },
  {
   "cell_type": "code",
   "execution_count": 120,
   "metadata": {},
   "outputs": [],
   "source": [
    "plot_data = []\n",
    "for k in dict(r1):\n",
    "    plot_data.append({\n",
    "        'rank': '1st',\n",
    "        'Method': k.upper(),\n",
    "        'count': dict(r1)[k]\n",
    "    })\n",
    "\n",
    "for k in dict(r2):\n",
    "    plot_data.append({\n",
    "        'rank': '2nd',\n",
    "        'Method': k.upper(),\n",
    "        'count': dict(r2)[k]\n",
    "    })\n",
    "\n",
    "for k in dict(r3):\n",
    "    plot_data.append({\n",
    "        'rank': '3rd',\n",
    "        'Method': k.upper(),\n",
    "        'count': dict(r3)[k]\n",
    "    })"
   ]
  },
  {
   "cell_type": "code",
   "execution_count": 121,
   "metadata": {},
   "outputs": [],
   "source": [
    "df = pd.DataFrame(plot_data)\n",
    "df['percentage'] = df['count'].apply(lambda x: x / total)"
   ]
  },
  {
   "cell_type": "code",
   "execution_count": 143,
   "metadata": {},
   "outputs": [],
   "source": [
    "df['formatted_percentage'] = pd.Series([\"{0:.01%}\".format(val) for val in df['percentage']], index = df.index)"
   ]
  },
  {
   "cell_type": "code",
   "execution_count": 150,
   "metadata": {},
   "outputs": [],
   "source": [
    "df['method_order'] = [0 if m=='OURS' else 1 if m=='CE' else 2 for m in df['method']]"
   ]
  },
  {
   "cell_type": "code",
   "execution_count": 151,
   "metadata": {},
   "outputs": [
    {
     "data": {
      "text/html": [
       "<div>\n",
       "<style scoped>\n",
       "    .dataframe tbody tr th:only-of-type {\n",
       "        vertical-align: middle;\n",
       "    }\n",
       "\n",
       "    .dataframe tbody tr th {\n",
       "        vertical-align: top;\n",
       "    }\n",
       "\n",
       "    .dataframe thead th {\n",
       "        text-align: right;\n",
       "    }\n",
       "</style>\n",
       "<table border=\"1\" class=\"dataframe\">\n",
       "  <thead>\n",
       "    <tr style=\"text-align: right;\">\n",
       "      <th></th>\n",
       "      <th>count</th>\n",
       "      <th>method</th>\n",
       "      <th>rank</th>\n",
       "      <th>percentage</th>\n",
       "      <th>formatted_percentage</th>\n",
       "      <th>method_order</th>\n",
       "    </tr>\n",
       "  </thead>\n",
       "  <tbody>\n",
       "    <tr>\n",
       "      <th>0</th>\n",
       "      <td>2158</td>\n",
       "      <td>OURS</td>\n",
       "      <td>1st</td>\n",
       "      <td>0.830000</td>\n",
       "      <td>83.0%</td>\n",
       "      <td>0</td>\n",
       "    </tr>\n",
       "    <tr>\n",
       "      <th>1</th>\n",
       "      <td>208</td>\n",
       "      <td>GL</td>\n",
       "      <td>1st</td>\n",
       "      <td>0.080000</td>\n",
       "      <td>8.0%</td>\n",
       "      <td>2</td>\n",
       "    </tr>\n",
       "    <tr>\n",
       "      <th>2</th>\n",
       "      <td>234</td>\n",
       "      <td>CE</td>\n",
       "      <td>1st</td>\n",
       "      <td>0.090000</td>\n",
       "      <td>9.0%</td>\n",
       "      <td>1</td>\n",
       "    </tr>\n",
       "    <tr>\n",
       "      <th>3</th>\n",
       "      <td>1361</td>\n",
       "      <td>CE</td>\n",
       "      <td>2nd</td>\n",
       "      <td>0.523462</td>\n",
       "      <td>52.3%</td>\n",
       "      <td>1</td>\n",
       "    </tr>\n",
       "    <tr>\n",
       "      <th>4</th>\n",
       "      <td>936</td>\n",
       "      <td>GL</td>\n",
       "      <td>2nd</td>\n",
       "      <td>0.360000</td>\n",
       "      <td>36.0%</td>\n",
       "      <td>2</td>\n",
       "    </tr>\n",
       "    <tr>\n",
       "      <th>5</th>\n",
       "      <td>303</td>\n",
       "      <td>OURS</td>\n",
       "      <td>2nd</td>\n",
       "      <td>0.116538</td>\n",
       "      <td>11.7%</td>\n",
       "      <td>0</td>\n",
       "    </tr>\n",
       "    <tr>\n",
       "      <th>6</th>\n",
       "      <td>1456</td>\n",
       "      <td>GL</td>\n",
       "      <td>3rd</td>\n",
       "      <td>0.560000</td>\n",
       "      <td>56.0%</td>\n",
       "      <td>2</td>\n",
       "    </tr>\n",
       "    <tr>\n",
       "      <th>7</th>\n",
       "      <td>1005</td>\n",
       "      <td>CE</td>\n",
       "      <td>3rd</td>\n",
       "      <td>0.386538</td>\n",
       "      <td>38.7%</td>\n",
       "      <td>1</td>\n",
       "    </tr>\n",
       "    <tr>\n",
       "      <th>8</th>\n",
       "      <td>139</td>\n",
       "      <td>OURS</td>\n",
       "      <td>3rd</td>\n",
       "      <td>0.053462</td>\n",
       "      <td>5.3%</td>\n",
       "      <td>0</td>\n",
       "    </tr>\n",
       "  </tbody>\n",
       "</table>\n",
       "</div>"
      ],
      "text/plain": [
       "   count method rank  percentage formatted_percentage  method_order\n",
       "0   2158   OURS  1st    0.830000                83.0%             0\n",
       "1    208     GL  1st    0.080000                 8.0%             2\n",
       "2    234     CE  1st    0.090000                 9.0%             1\n",
       "3   1361     CE  2nd    0.523462                52.3%             1\n",
       "4    936     GL  2nd    0.360000                36.0%             2\n",
       "5    303   OURS  2nd    0.116538                11.7%             0\n",
       "6   1456     GL  3rd    0.560000                56.0%             2\n",
       "7   1005     CE  3rd    0.386538                38.7%             1\n",
       "8    139   OURS  3rd    0.053462                 5.3%             0"
      ]
     },
     "execution_count": 151,
     "metadata": {},
     "output_type": "execute_result"
    }
   ],
   "source": [
    "df"
   ]
  },
  {
   "cell_type": "code",
   "execution_count": 152,
   "metadata": {
    "scrolled": false
   },
   "outputs": [
    {
     "data": {
      "text/html": [
       "<div class=\"vega-embed\" id=\"886070a0-52d6-4064-be7c-6c2e67e62894\"></div>\n",
       "\n",
       "<style>\n",
       ".vega-embed svg, .vega-embed canvas {\n",
       "  border: 1px dotted gray;\n",
       "}\n",
       "\n",
       ".vega-embed .vega-actions a {\n",
       "  margin-right: 6px;\n",
       "}\n",
       "</style>\n"
      ]
     },
     "metadata": {
      "jupyter-vega": "#886070a0-52d6-4064-be7c-6c2e67e62894"
     },
     "output_type": "display_data"
    },
    {
     "data": {
      "application/javascript": [
       "var spec = {\"config\": {\"cell\": {\"width\": 500, \"height\": 350}}, \"encoding\": {\"color\": {\"field\": \"method\", \"legend\": {\"title\": \"Methods\"}, \"scale\": {\"domain\": [\"OURS\", \"GL\", \"CE\"]}, \"type\": \"nominal\"}, \"column\": {\"field\": \"rank\", \"title\": \"Rankings\", \"type\": \"nominal\"}, \"label\": {\"field\": \"percentage\", \"type\": \"quantitative\"}, \"x\": {\"axis\": false, \"field\": \"method\", \"scale\": {\"bandSize\": 17.0}, \"sort\": \"descending\", \"type\": \"nominal\"}, \"y\": {\"axis\": {\"format\": \".00%\", \"title\": \"Percentage\"}, \"field\": \"percentage\", \"type\": \"quantitative\"}}, \"mark\": \"bar\", \"width\": 210.0, \"data\": {\"values\": [{\"count\": 2158, \"method\": \"OURS\", \"rank\": \"1st\", \"percentage\": 0.83, \"formatted_percentage\": \"83.0%\", \"method_order\": 0}, {\"count\": 208, \"method\": \"GL\", \"rank\": \"1st\", \"percentage\": 0.08, \"formatted_percentage\": \"8.0%\", \"method_order\": 2}, {\"count\": 234, \"method\": \"CE\", \"rank\": \"1st\", \"percentage\": 0.09, \"formatted_percentage\": \"9.0%\", \"method_order\": 1}, {\"count\": 1361, \"method\": \"CE\", \"rank\": \"2nd\", \"percentage\": 0.5234615384615384, \"formatted_percentage\": \"52.3%\", \"method_order\": 1}, {\"count\": 936, \"method\": \"GL\", \"rank\": \"2nd\", \"percentage\": 0.36, \"formatted_percentage\": \"36.0%\", \"method_order\": 2}, {\"count\": 303, \"method\": \"OURS\", \"rank\": \"2nd\", \"percentage\": 0.11653846153846154, \"formatted_percentage\": \"11.7%\", \"method_order\": 0}, {\"count\": 1456, \"method\": \"GL\", \"rank\": \"3rd\", \"percentage\": 0.56, \"formatted_percentage\": \"56.0%\", \"method_order\": 2}, {\"count\": 1005, \"method\": \"CE\", \"rank\": \"3rd\", \"percentage\": 0.38653846153846155, \"formatted_percentage\": \"38.7%\", \"method_order\": 1}, {\"count\": 139, \"method\": \"OURS\", \"rank\": \"3rd\", \"percentage\": 0.05346153846153846, \"formatted_percentage\": \"5.3%\", \"method_order\": 0}]}, \"$schema\": \"https://vega.github.io/schema/vega-lite/v1.2.1.json\"};\n",
       "var selector = \"#886070a0-52d6-4064-be7c-6c2e67e62894\";\n",
       "var type = \"vega-lite\";\n",
       "\n",
       "var output_area = this;\n",
       "require(['nbextensions/jupyter-vega/index'], function(vega) {\n",
       "  vega.render(selector, spec, type, output_area);\n",
       "}, function (err) {\n",
       "  if (err.requireType !== 'scripterror') {\n",
       "    throw(err);\n",
       "  }\n",
       "});\n"
      ]
     },
     "metadata": {
      "jupyter-vega": "#886070a0-52d6-4064-be7c-6c2e67e62894"
     },
     "output_type": "display_data"
    },
    {
     "data": {
      "image/png": "[encoded data removed]"
     },
     "metadata": {
      "jupyter-vega": "#886070a0-52d6-4064-be7c-6c2e67e62894"
     },
     "output_type": "display_data"
    }
   ],
   "source": [
    "Chart(df, width=210).mark_bar().encode(\n",
    "    color=Color('method:N', \n",
    "                scale=Scale(domain=[s.upper() for s in list(r1.keys())]), \n",
    "                legend=Legend(title='Methods')),\n",
    "    column=Column('rank:N', title='Rankings'),\n",
    "    x=X('method:N',\n",
    "        sort='descending',\n",
    "        scale=Scale(bandSize=17.0),\n",
    "        axis=False),\n",
    "    y=Y('percentage:Q',\n",
    "       axis=Axis(title='Percentage', format='.00%')),\n",
    "    label=Label(field='percentage')\n",
    ")"
   ]
  },
  {
   "cell_type": "code",
   "execution_count": 90,
   "metadata": {},
   "outputs": [],
   "source": [
    "import seaborn as sns\n",
    "from matplotlib.pyplot import show"
   ]
  },
  {
   "cell_type": "code",
   "execution_count": 83,
   "metadata": {},
   "outputs": [],
   "source": [
    "sns.set(style=\"whitegrid\")"
   ]
  },
  {
   "cell_type": "code",
   "execution_count": 127,
   "metadata": {},
   "outputs": [
    {
     "data": {
      "text/plain": [
       "(0, 1)"
      ]
     },
     "execution_count": 127,
     "metadata": {},
     "output_type": "execute_result"
    },
    {
     "data": {
      "image/png": "[encoded data removed]",
      "text/plain": [
       "<matplotlib.figure.Figure at 0x12359def0>"
      ]
     },
     "metadata": {},
     "output_type": "display_data"
    }
   ],
   "source": [
    "g = sns.factorplot(data=df, x='rank', y='percentage', hue='Method', \\\n",
    "              size=6, kind='bar', palette='muted')\n",
    "for i,p in enumerate(g.axes[0][0].patches):\n",
    "    height = p.get_height()\n",
    "    g.axes[0][0].text(p.get_x()+p.get_width()/2.,\n",
    "            height + 0.01,\n",
    "            '{:1.2f}'.format(df['percentage'][i]),\n",
    "            ha=\"center\") \n",
    "g.despine(left=True)\n",
    "g.set_xlabels('Rankings')\n",
    "g.set_ylabels('Percentage')\n",
    "plt.ylim(0,1)"
   ]
  },
  {
   "cell_type": "code",
   "execution_count": null,
   "metadata": {},
   "outputs": [],
   "source": [
    "g.savefig"
   ]
  }
 ],
 "metadata": {
  "kernelspec": {
   "display_name": "Python 3",
   "language": "python",
   "name": "python3"
  },
  "language_info": {
   "codemirror_mode": {
    "name": "ipython",
    "version": 3
   },
   "file_extension": ".py",
   "mimetype": "text/x-python",
   "name": "python",
   "nbconvert_exporter": "python",
   "pygments_lexer": "ipython3",
   "version": "3.6.4"
  }
 },
 "nbformat": 4,
 "nbformat_minor": 2
}
