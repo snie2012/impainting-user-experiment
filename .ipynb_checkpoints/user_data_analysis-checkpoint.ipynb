{
 "cells": [
  {
   "cell_type": "code",
   "execution_count": 1,
   "metadata": {},
   "outputs": [],
   "source": [
    "import json\n",
    "import os\n",
    "import collections\n",
    "import pandas as pd\n",
    "from altair import *"
   ]
  },
  {
   "cell_type": "code",
   "execution_count": 2,
   "metadata": {},
   "outputs": [],
   "source": [
    "%matplotlib inline\n",
    "import matplotlib.pyplot as plt"
   ]
  },
  {
   "cell_type": "code",
   "execution_count": 3,
   "metadata": {},
   "outputs": [
    {
     "name": "stdout",
     "output_type": "stream",
     "text": [
      "number of subjects: 26\n",
      "number of covered images: 1794\n",
      "coverage rate: 0.598\n"
     ]
    }
   ],
   "source": [
    "files = os.listdir('user_data/')\n",
    "covered = set()\n",
    "count = 0\n",
    "r1, r2, r3 = [], [], []\n",
    "for name in files:\n",
    "    if '.json' not in name: continue\n",
    "    # print(name)\n",
    "    count += 1\n",
    "    with open('user_data/' + name, 'r') as f:\n",
    "        d = json.load(f)\n",
    "        for item in d:\n",
    "            if 'rank_result' in item:\n",
    "                covered.add(item['rank_result'][0].split('/')[1].split('_')[0])\n",
    "                t = [i.split('/')[0] for i in item['rank_result']]\n",
    "                r1.append(t[0])\n",
    "                r2.append(t[1])\n",
    "                r3.append(t[2])\n",
    "print('number of subjects:', count)\n",
    "print('number of covered images:', len(covered))\n",
    "print('coverage rate:', len(covered) / 3000)"
   ]
  },
  {
   "cell_type": "code",
   "execution_count": 4,
   "metadata": {},
   "outputs": [],
   "source": [
    "r1 = collections.Counter(r1)\n",
    "r2 = collections.Counter(r2)\n",
    "r3 = collections.Counter(r3)"
   ]
  },
  {
   "cell_type": "code",
   "execution_count": 5,
   "metadata": {
    "scrolled": true
   },
   "outputs": [],
   "source": [
    "total = sum(r1[k] for k in r1)"
   ]
  },
  {
   "cell_type": "code",
   "execution_count": 71,
   "metadata": {},
   "outputs": [],
   "source": [
    "plot_data = []\n",
    "for k in dict(r1):\n",
    "    plot_data.append({\n",
    "        'rank': '1st',\n",
    "        'method': k.upper(),\n",
    "        'count': dict(r1)[k]\n",
    "    })\n",
    "\n",
    "for k in dict(r2):\n",
    "    plot_data.append({\n",
    "        'rank': '2nd',\n",
    "        'method': k.upper(),\n",
    "        'count': dict(r2)[k]\n",
    "    })\n",
    "\n",
    "for k in dict(r3):\n",
    "    plot_data.append({\n",
    "        'rank': '3rd',\n",
    "        'method': k.upper(),\n",
    "        'count': dict(r3)[k]\n",
    "    })"
   ]
  },
  {
   "cell_type": "code",
   "execution_count": 72,
   "metadata": {},
   "outputs": [],
   "source": [
    "df = pd.DataFrame(plot_data)\n",
    "df['percentage'] = df['count'].apply(lambda x: x / total)"
   ]
  },
  {
   "cell_type": "code",
   "execution_count": 73,
   "metadata": {},
   "outputs": [
    {
     "data": {
      "text/html": [
       "<div>\n",
       "<style scoped>\n",
       "    .dataframe tbody tr th:only-of-type {\n",
       "        vertical-align: middle;\n",
       "    }\n",
       "\n",
       "    .dataframe tbody tr th {\n",
       "        vertical-align: top;\n",
       "    }\n",
       "\n",
       "    .dataframe thead th {\n",
       "        text-align: right;\n",
       "    }\n",
       "</style>\n",
       "<table border=\"1\" class=\"dataframe\">\n",
       "  <thead>\n",
       "    <tr style=\"text-align: right;\">\n",
       "      <th></th>\n",
       "      <th>count</th>\n",
       "      <th>method</th>\n",
       "      <th>rank</th>\n",
       "      <th>percentage</th>\n",
       "    </tr>\n",
       "  </thead>\n",
       "  <tbody>\n",
       "    <tr>\n",
       "      <th>0</th>\n",
       "      <td>2158</td>\n",
       "      <td>OURS</td>\n",
       "      <td>1st</td>\n",
       "      <td>0.830000</td>\n",
       "    </tr>\n",
       "    <tr>\n",
       "      <th>1</th>\n",
       "      <td>208</td>\n",
       "      <td>GL</td>\n",
       "      <td>1st</td>\n",
       "      <td>0.080000</td>\n",
       "    </tr>\n",
       "    <tr>\n",
       "      <th>2</th>\n",
       "      <td>234</td>\n",
       "      <td>CE</td>\n",
       "      <td>1st</td>\n",
       "      <td>0.090000</td>\n",
       "    </tr>\n",
       "    <tr>\n",
       "      <th>3</th>\n",
       "      <td>1361</td>\n",
       "      <td>CE</td>\n",
       "      <td>2nd</td>\n",
       "      <td>0.523462</td>\n",
       "    </tr>\n",
       "    <tr>\n",
       "      <th>4</th>\n",
       "      <td>936</td>\n",
       "      <td>GL</td>\n",
       "      <td>2nd</td>\n",
       "      <td>0.360000</td>\n",
       "    </tr>\n",
       "    <tr>\n",
       "      <th>5</th>\n",
       "      <td>303</td>\n",
       "      <td>OURS</td>\n",
       "      <td>2nd</td>\n",
       "      <td>0.116538</td>\n",
       "    </tr>\n",
       "    <tr>\n",
       "      <th>6</th>\n",
       "      <td>1456</td>\n",
       "      <td>GL</td>\n",
       "      <td>3rd</td>\n",
       "      <td>0.560000</td>\n",
       "    </tr>\n",
       "    <tr>\n",
       "      <th>7</th>\n",
       "      <td>1005</td>\n",
       "      <td>CE</td>\n",
       "      <td>3rd</td>\n",
       "      <td>0.386538</td>\n",
       "    </tr>\n",
       "    <tr>\n",
       "      <th>8</th>\n",
       "      <td>139</td>\n",
       "      <td>OURS</td>\n",
       "      <td>3rd</td>\n",
       "      <td>0.053462</td>\n",
       "    </tr>\n",
       "  </tbody>\n",
       "</table>\n",
       "</div>"
      ],
      "text/plain": [
       "   count method rank  percentage\n",
       "0   2158   OURS  1st    0.830000\n",
       "1    208     GL  1st    0.080000\n",
       "2    234     CE  1st    0.090000\n",
       "3   1361     CE  2nd    0.523462\n",
       "4    936     GL  2nd    0.360000\n",
       "5    303   OURS  2nd    0.116538\n",
       "6   1456     GL  3rd    0.560000\n",
       "7   1005     CE  3rd    0.386538\n",
       "8    139   OURS  3rd    0.053462"
      ]
     },
     "execution_count": 73,
     "metadata": {},
     "output_type": "execute_result"
    }
   ],
   "source": [
    "df"
   ]
  },
  {
   "cell_type": "code",
   "execution_count": 74,
   "metadata": {
    "scrolled": false
   },
   "outputs": [
    {
     "data": {
      "text/html": [
       "<div class=\"vega-embed\" id=\"a0d71f93-4f86-491e-8195-fe608e178a57\"></div>\n",
       "\n",
       "<style>\n",
       ".vega-embed svg, .vega-embed canvas {\n",
       "  border: 1px dotted gray;\n",
       "}\n",
       "\n",
       ".vega-embed .vega-actions a {\n",
       "  margin-right: 6px;\n",
       "}\n",
       "</style>\n"
      ]
     },
     "metadata": {
      "jupyter-vega": "#a0d71f93-4f86-491e-8195-fe608e178a57"
     },
     "output_type": "display_data"
    },
    {
     "data": {
      "application/javascript": [
       "var spec = {\"config\": {\"cell\": {\"width\": 500, \"height\": 350}}, \"encoding\": {\"color\": {\"field\": \"method\", \"legend\": {\"title\": \"Methods\"}, \"scale\": {\"domain\": [\"OURS\", \"GL\", \"CE\"]}, \"type\": \"nominal\"}, \"column\": {\"field\": \"rank\", \"title\": \"Rankings\", \"type\": \"nominal\"}, \"x\": {\"axis\": false, \"field\": \"method\", \"scale\": {\"bandSize\": 17.0}, \"sort\": \"descending\", \"type\": \"nominal\"}, \"y\": {\"axis\": {\"format\": \".00%\", \"title\": \"Percentage\"}, \"field\": \"percentage\", \"type\": \"quantitative\"}}, \"mark\": \"bar\", \"width\": 210.0, \"data\": {\"values\": [{\"count\": 2158, \"method\": \"OURS\", \"rank\": \"1st\", \"percentage\": 0.83}, {\"count\": 208, \"method\": \"GL\", \"rank\": \"1st\", \"percentage\": 0.08}, {\"count\": 234, \"method\": \"CE\", \"rank\": \"1st\", \"percentage\": 0.09}, {\"count\": 1361, \"method\": \"CE\", \"rank\": \"2nd\", \"percentage\": 0.5234615384615384}, {\"count\": 936, \"method\": \"GL\", \"rank\": \"2nd\", \"percentage\": 0.36}, {\"count\": 303, \"method\": \"OURS\", \"rank\": \"2nd\", \"percentage\": 0.11653846153846154}, {\"count\": 1456, \"method\": \"GL\", \"rank\": \"3rd\", \"percentage\": 0.56}, {\"count\": 1005, \"method\": \"CE\", \"rank\": \"3rd\", \"percentage\": 0.38653846153846155}, {\"count\": 139, \"method\": \"OURS\", \"rank\": \"3rd\", \"percentage\": 0.05346153846153846}]}, \"$schema\": \"https://vega.github.io/schema/vega-lite/v1.2.1.json\"};\n",
       "var selector = \"#a0d71f93-4f86-491e-8195-fe608e178a57\";\n",
       "var type = \"vega-lite\";\n",
       "\n",
       "var output_area = this;\n",
       "require(['nbextensions/jupyter-vega/index'], function(vega) {\n",
       "  vega.render(selector, spec, type, output_area);\n",
       "}, function (err) {\n",
       "  if (err.requireType !== 'scripterror') {\n",
       "    throw(err);\n",
       "  }\n",
       "});\n"
      ]
     },
     "metadata": {
      "jupyter-vega": "#a0d71f93-4f86-491e-8195-fe608e178a57"
     },
     "output_type": "display_data"
    },
    {
     "data": {
      "image/png": "[encoded data removed]"
     },
     "metadata": {
      "jupyter-vega": "#a0d71f93-4f86-491e-8195-fe608e178a57"
     },
     "output_type": "display_data"
    }
   ],
   "source": [
    "Chart(df, width=210).mark_bar().encode(\n",
    "    color=Color('method:N', \n",
    "                scale=Scale(domain=[s.upper() for s in list(r1.keys())]), \n",
    "                legend=Legend(title='Methods')),\n",
    "    column=Column('rank:N', title='Rankings'),\n",
    "    x=X('method:N',\n",
    "        sort='descending',\n",
    "        scale=Scale(bandSize=17.0),\n",
    "        axis=False),\n",
    "    y=Y('percentage:Q',\n",
    "       axis=Axis(title='Percentage', format='.00%')),\n",
    ")"
   ]
  }
 ],
 "metadata": {
  "kernelspec": {
   "display_name": "Python 3",
   "language": "python",
   "name": "python3"
  },
  "language_info": {
   "codemirror_mode": {
    "name": "ipython",
    "version": 3
   },
   "file_extension": ".py",
   "mimetype": "text/x-python",
   "name": "python",
   "nbconvert_exporter": "python",
   "pygments_lexer": "ipython3",
   "version": "3.6.4"
  }
 },
 "nbformat": 4,
 "nbformat_minor": 2
}
