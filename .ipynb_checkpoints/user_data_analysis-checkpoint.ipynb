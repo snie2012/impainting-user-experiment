{
 "cells": [
  {
   "cell_type": "code",
   "execution_count": 33,
   "metadata": {},
   "outputs": [],
   "source": [
    "import json\n",
    "import os\n",
    "import collections\n",
    "import pandas as pd\n",
    "from altair import *"
   ]
  },
  {
   "cell_type": "code",
   "execution_count": 4,
   "metadata": {},
   "outputs": [],
   "source": [
    "%matplotlib inline\n",
    "import matplotlib.pyplot as plt"
   ]
  },
  {
   "cell_type": "code",
   "execution_count": 5,
   "metadata": {},
   "outputs": [
    {
     "name": "stdout",
     "output_type": "stream",
     "text": [
      "number of subjects: 26\n",
      "number of covered images: 1794\n",
      "coverage rate: 0.598\n"
     ]
    }
   ],
   "source": [
    "files = os.listdir('user_data/')\n",
    "covered = set()\n",
    "count = 0\n",
    "r1, r2, r3 = [], [], []\n",
    "for name in files:\n",
    "    if '.json' not in name: continue\n",
    "    # print(name)\n",
    "    count += 1\n",
    "    with open('user_data/' + name, 'r') as f:\n",
    "        d = json.load(f)\n",
    "        for item in d:\n",
    "            if 'rank_result' in item:\n",
    "                covered.add(item['rank_result'][0].split('/')[1].split('_')[0])\n",
    "                t = [i.split('/')[0] for i in item['rank_result']]\n",
    "                r1.append(t[0])\n",
    "                r2.append(t[1])\n",
    "                r3.append(t[2])\n",
    "print('number of subjects:', count)\n",
    "print('number of covered images:', len(covered))\n",
    "print('coverage rate:', len(covered) / 3000)"
   ]
  },
  {
   "cell_type": "code",
   "execution_count": 6,
   "metadata": {},
   "outputs": [],
   "source": [
    "r1 = collections.Counter(r1)\n",
    "r2 = collections.Counter(r2)\n",
    "r3 = collections.Counter(r3)"
   ]
  },
  {
   "cell_type": "code",
   "execution_count": 68,
   "metadata": {
    "scrolled": true
   },
   "outputs": [],
   "source": [
    "total = sum(r1[k] for k in r1)"
   ]
  },
  {
   "cell_type": "code",
   "execution_count": 25,
   "metadata": {},
   "outputs": [],
   "source": [
    "plot_data = []\n",
    "for k in dict(r1):\n",
    "    plot_data.append({\n",
    "        'rank': 1,\n",
    "        'method': k,\n",
    "        'count': dict(r1)[k]\n",
    "    })\n",
    "\n",
    "for k in dict(r2):\n",
    "    plot_data.append({\n",
    "        'rank': 2,\n",
    "        'method': k,\n",
    "        'count': dict(r2)[k]\n",
    "    })\n",
    "\n",
    "for k in dict(r3):\n",
    "    plot_data.append({\n",
    "        'rank': 3,\n",
    "        'method': k,\n",
    "        'count': dict(r3)[k]\n",
    "    })"
   ]
  },
  {
   "cell_type": "code",
   "execution_count": 70,
   "metadata": {},
   "outputs": [],
   "source": [
    "df = pd.DataFrame(plot_data)\n",
    "df['percentage'] = df['count'].apply(lambda x: x / total)"
   ]
  },
  {
   "cell_type": "code",
   "execution_count": 71,
   "metadata": {},
   "outputs": [
    {
     "data": {
      "text/html": [
       "<div>\n",
       "<style scoped>\n",
       "    .dataframe tbody tr th:only-of-type {\n",
       "        vertical-align: middle;\n",
       "    }\n",
       "\n",
       "    .dataframe tbody tr th {\n",
       "        vertical-align: top;\n",
       "    }\n",
       "\n",
       "    .dataframe thead th {\n",
       "        text-align: right;\n",
       "    }\n",
       "</style>\n",
       "<table border=\"1\" class=\"dataframe\">\n",
       "  <thead>\n",
       "    <tr style=\"text-align: right;\">\n",
       "      <th></th>\n",
       "      <th>count</th>\n",
       "      <th>method</th>\n",
       "      <th>rank</th>\n",
       "      <th>percentage</th>\n",
       "    </tr>\n",
       "  </thead>\n",
       "  <tbody>\n",
       "    <tr>\n",
       "      <th>0</th>\n",
       "      <td>2158</td>\n",
       "      <td>ours</td>\n",
       "      <td>1</td>\n",
       "      <td>0.830000</td>\n",
       "    </tr>\n",
       "    <tr>\n",
       "      <th>1</th>\n",
       "      <td>208</td>\n",
       "      <td>gl</td>\n",
       "      <td>1</td>\n",
       "      <td>0.080000</td>\n",
       "    </tr>\n",
       "    <tr>\n",
       "      <th>2</th>\n",
       "      <td>234</td>\n",
       "      <td>ce</td>\n",
       "      <td>1</td>\n",
       "      <td>0.090000</td>\n",
       "    </tr>\n",
       "    <tr>\n",
       "      <th>3</th>\n",
       "      <td>1361</td>\n",
       "      <td>ce</td>\n",
       "      <td>2</td>\n",
       "      <td>0.523462</td>\n",
       "    </tr>\n",
       "    <tr>\n",
       "      <th>4</th>\n",
       "      <td>936</td>\n",
       "      <td>gl</td>\n",
       "      <td>2</td>\n",
       "      <td>0.360000</td>\n",
       "    </tr>\n",
       "    <tr>\n",
       "      <th>5</th>\n",
       "      <td>303</td>\n",
       "      <td>ours</td>\n",
       "      <td>2</td>\n",
       "      <td>0.116538</td>\n",
       "    </tr>\n",
       "    <tr>\n",
       "      <th>6</th>\n",
       "      <td>1456</td>\n",
       "      <td>gl</td>\n",
       "      <td>3</td>\n",
       "      <td>0.560000</td>\n",
       "    </tr>\n",
       "    <tr>\n",
       "      <th>7</th>\n",
       "      <td>1005</td>\n",
       "      <td>ce</td>\n",
       "      <td>3</td>\n",
       "      <td>0.386538</td>\n",
       "    </tr>\n",
       "    <tr>\n",
       "      <th>8</th>\n",
       "      <td>139</td>\n",
       "      <td>ours</td>\n",
       "      <td>3</td>\n",
       "      <td>0.053462</td>\n",
       "    </tr>\n",
       "  </tbody>\n",
       "</table>\n",
       "</div>"
      ],
      "text/plain": [
       "   count method  rank  percentage\n",
       "0   2158   ours     1    0.830000\n",
       "1    208     gl     1    0.080000\n",
       "2    234     ce     1    0.090000\n",
       "3   1361     ce     2    0.523462\n",
       "4    936     gl     2    0.360000\n",
       "5    303   ours     2    0.116538\n",
       "6   1456     gl     3    0.560000\n",
       "7   1005     ce     3    0.386538\n",
       "8    139   ours     3    0.053462"
      ]
     },
     "execution_count": 71,
     "metadata": {},
     "output_type": "execute_result"
    }
   ],
   "source": [
    "df"
   ]
  },
  {
   "cell_type": "code",
   "execution_count": 88,
   "metadata": {
    "scrolled": false
   },
   "outputs": [
    {
     "data": {
      "text/html": [
       "<div class=\"vega-embed\" id=\"ad976b05-2eee-46f8-b9f6-d615deea5b2f\"></div>\n",
       "\n",
       "<style>\n",
       ".vega-embed svg, .vega-embed canvas {\n",
       "  border: 1px dotted gray;\n",
       "}\n",
       "\n",
       ".vega-embed .vega-actions a {\n",
       "  margin-right: 6px;\n",
       "}\n",
       "</style>\n"
      ]
     },
     "metadata": {
      "jupyter-vega": "#ad976b05-2eee-46f8-b9f6-d615deea5b2f"
     },
     "output_type": "display_data"
    },
    {
     "data": {
      "application/javascript": [
       "var spec = {\"config\": {\"cell\": {\"width\": 500, \"height\": 350}}, \"encoding\": {\"color\": {\"field\": \"method\", \"type\": \"nominal\"}, \"column\": {\"field\": \"rank\", \"type\": \"nominal\"}, \"legend\": {}, \"x\": {\"axis\": false, \"field\": \"method\", \"scale\": {\"bandSize\": 17.0}, \"sort\": \"descending\", \"type\": \"nominal\"}, \"y\": {\"axis\": {\"format\": \".00%\", \"title\": \"percentage\"}, \"field\": \"percentage\", \"type\": \"quantitative\"}}, \"mark\": \"bar\", \"width\": 210.0, \"data\": {\"values\": [{\"count\": 2158, \"method\": \"ours\", \"rank\": 1, \"percentage\": 0.83}, {\"count\": 208, \"method\": \"gl\", \"rank\": 1, \"percentage\": 0.08}, {\"count\": 234, \"method\": \"ce\", \"rank\": 1, \"percentage\": 0.09}, {\"count\": 1361, \"method\": \"ce\", \"rank\": 2, \"percentage\": 0.5234615384615384}, {\"count\": 936, \"method\": \"gl\", \"rank\": 2, \"percentage\": 0.36}, {\"count\": 303, \"method\": \"ours\", \"rank\": 2, \"percentage\": 0.11653846153846154}, {\"count\": 1456, \"method\": \"gl\", \"rank\": 3, \"percentage\": 0.56}, {\"count\": 1005, \"method\": \"ce\", \"rank\": 3, \"percentage\": 0.38653846153846155}, {\"count\": 139, \"method\": \"ours\", \"rank\": 3, \"percentage\": 0.05346153846153846}]}, \"$schema\": \"https://vega.github.io/schema/vega-lite/v1.2.1.json\"};\n",
       "var selector = \"#ad976b05-2eee-46f8-b9f6-d615deea5b2f\";\n",
       "var type = \"vega-lite\";\n",
       "\n",
       "var output_area = this;\n",
       "require(['nbextensions/jupyter-vega/index'], function(vega) {\n",
       "  vega.render(selector, spec, type, output_area);\n",
       "}, function (err) {\n",
       "  if (err.requireType !== 'scripterror') {\n",
       "    throw(err);\n",
       "  }\n",
       "});\n"
      ]
     },
     "metadata": {
      "jupyter-vega": "#ad976b05-2eee-46f8-b9f6-d615deea5b2f"
     },
     "output_type": "display_data"
    },
    {
     "data": {
      "image/png": "[encoded data removed]"
     },
     "metadata": {
      "jupyter-vega": "#ad976b05-2eee-46f8-b9f6-d615deea5b2f"
     },
     "output_type": "display_data"
    }
   ],
   "source": [
    "Chart(df, width=210).mark_bar().encode(\n",
    "    color=Color('method:N'),\n",
    "    column='rank:N',\n",
    "    x=X('method:N',\n",
    "        sort='descending',\n",
    "        scale=Scale(bandSize=17.0),\n",
    "        axis=False),\n",
    "    y=Y('percentage:Q',\n",
    "       axis=Axis(title='percentage', format='.00%')),\n",
    "    legend=Legend()\n",
    ")"
   ]
  }
 ],
 "metadata": {
  "kernelspec": {
   "display_name": "Python 3",
   "language": "python",
   "name": "python3"
  },
  "language_info": {
   "codemirror_mode": {
    "name": "ipython",
    "version": 3
   },
   "file_extension": ".py",
   "mimetype": "text/x-python",
   "name": "python",
   "nbconvert_exporter": "python",
   "pygments_lexer": "ipython3",
   "version": "3.6.4"
  }
 },
 "nbformat": 4,
 "nbformat_minor": 2
}
