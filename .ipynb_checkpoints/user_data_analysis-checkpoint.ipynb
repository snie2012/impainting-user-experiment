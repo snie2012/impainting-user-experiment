{
 "cells": [
  {
   "cell_type": "code",
   "execution_count": 1,
   "metadata": {},
   "outputs": [],
   "source": [
    "import json"
   ]
  },
  {
   "cell_type": "code",
   "execution_count": 2,
   "metadata": {},
   "outputs": [],
   "source": [
    "import os"
   ]
  },
  {
   "cell_type": "code",
   "execution_count": 4,
   "metadata": {},
   "outputs": [],
   "source": [
    "files = os.listdir('user_data/')"
   ]
  },
  {
   "cell_type": "code",
   "execution_count": 29,
   "metadata": {},
   "outputs": [],
   "source": [
    "rank_1, rank_2, rank_3 = [], [], []\n",
    "for name in files:\n",
    "    with open('user_data/' + name, 'r') as f:\n",
    "        d = json.load(f)\n",
    "        rank_1.append()\n",
    "        rank_2.append()\n",
    "        rank_3.append()\n",
    "        \n",
    "        t1, t2, t3 = [], [], []\n",
    "        for item in d:\n",
    "            if 'rank_result' in item:\n",
    "                t.append(item['rank_result'])\n",
    "        ds.append(t)"
   ]
  },
  {
   "cell_type": "code",
   "execution_count": 31,
   "metadata": {},
   "outputs": [
    {
     "data": {
      "text/plain": [
       "[['ours/133265_ours.png', 'ce/133265_ce.png', 'gl/133265_gl.png'],\n",
       " ['ours/197999_ours.png', 'ce/197999_ce.png', 'gl/197999_gl.png'],\n",
       " ['ours/162198_ours.png', 'gl/162198_gl.png', 'ce/162198_ce.png'],\n",
       " ['ours/141452_ours.png', 'gl/141452_gl.png', 'ce/141452_ce.png'],\n",
       " ['ours/103561_ours.png', 'ce/103561_ce.png', 'gl/103561_gl.png'],\n",
       " ['ours/193728_ours.png', 'ce/193728_ce.png', 'gl/193728_gl.png'],\n",
       " ['ours/087038_ours.png', 'ce/087038_ce.png', 'gl/087038_gl.png'],\n",
       " ['ours/151314_ours.png', 'ce/151314_ce.png', 'gl/151314_gl.png'],\n",
       " ['ours/152961_ours.png', 'ce/152961_ce.png', 'gl/152961_gl.png'],\n",
       " ['ours/040770_ours.png', 'ce/040770_ce.png', 'gl/040770_gl.png'],\n",
       " ['ours/127712_ours.png', 'ce/127712_ce.png', 'gl/127712_gl.png'],\n",
       " ['ours/075381_ours.png', 'ce/075381_ce.png', 'gl/075381_gl.png'],\n",
       " ['ours/071378_ours.png', 'gl/071378_gl.png', 'ce/071378_ce.png'],\n",
       " ['ours/070612_ours.png', 'gl/070612_gl.png', 'ce/070612_ce.png'],\n",
       " ['ours/188462_ours.png', 'ce/188462_ce.png', 'gl/188462_gl.png'],\n",
       " ['ours/036367_ours.png', 'ce/036367_ce.png', 'gl/036367_gl.png'],\n",
       " ['ours/052224_ours.png', 'gl/052224_gl.png', 'ce/052224_ce.png'],\n",
       " ['ours/111492_ours.png', 'gl/111492_gl.png', 'ce/111492_ce.png'],\n",
       " ['ours/024137_ours.png', 'ce/024137_ce.png', 'gl/024137_gl.png'],\n",
       " ['ours/202476_ours.png', 'gl/202476_gl.png', 'ce/202476_ce.png'],\n",
       " ['ours/128394_ours.png', 'ce/128394_ce.png', 'gl/128394_gl.png'],\n",
       " ['ours/145916_ours.png', 'gl/145916_gl.png', 'ce/145916_ce.png'],\n",
       " ['ours/027371_ours.png', 'ce/027371_ce.png', 'gl/027371_gl.png'],\n",
       " ['ours/005762_ours.png', 'gl/005762_gl.png', 'ce/005762_ce.png'],\n",
       " ['ours/027808_ours.png', 'gl/027808_gl.png', 'ce/027808_ce.png'],\n",
       " ['ours/001418_ours.png', 'gl/001418_gl.png', 'ce/001418_ce.png'],\n",
       " ['ours/100259_ours.png', 'gl/100259_gl.png', 'ce/100259_ce.png'],\n",
       " ['ours/085238_ours.png', 'gl/085238_gl.png', 'ce/085238_ce.png'],\n",
       " ['ours/081378_ours.png', 'gl/081378_gl.png', 'ce/081378_ce.png'],\n",
       " ['ours/180799_ours.png', 'gl/180799_gl.png', 'ce/180799_ce.png'],\n",
       " ['ours/035834_ours.png', 'gl/035834_gl.png', 'ce/035834_ce.png'],\n",
       " ['ours/160736_ours.png', 'ce/160736_ce.png', 'gl/160736_gl.png'],\n",
       " ['ours/155960_ours.png', 'ce/155960_ce.png', 'gl/155960_gl.png'],\n",
       " ['ours/075956_ours.png', 'ce/075956_ce.png', 'gl/075956_gl.png'],\n",
       " ['ours/178081_ours.png', 'ce/178081_ce.png', 'gl/178081_gl.png'],\n",
       " ['ours/036953_ours.png', 'gl/036953_gl.png', 'ce/036953_ce.png'],\n",
       " ['ours/157395_ours.png', 'gl/157395_gl.png', 'ce/157395_ce.png'],\n",
       " ['ours/056408_ours.png', 'gl/056408_gl.png', 'ce/056408_ce.png'],\n",
       " ['ours/122939_ours.png', 'ce/122939_ce.png', 'gl/122939_gl.png'],\n",
       " ['ours/190496_ours.png', 'ce/190496_ce.png', 'gl/190496_gl.png'],\n",
       " ['ours/083539_ours.png', 'ce/083539_ce.png', 'gl/083539_gl.png'],\n",
       " ['ours/174173_ours.png', 'ce/174173_ce.png', 'gl/174173_gl.png'],\n",
       " ['ours/188746_ours.png', 'gl/188746_gl.png', 'ce/188746_ce.png'],\n",
       " ['ours/058417_ours.png', 'ce/058417_ce.png', 'gl/058417_gl.png'],\n",
       " ['ours/052846_ours.png', 'gl/052846_gl.png', 'ce/052846_ce.png'],\n",
       " ['ours/160849_ours.png', 'gl/160849_gl.png', 'ce/160849_ce.png'],\n",
       " ['ours/140590_ours.png', 'ce/140590_ce.png', 'gl/140590_gl.png'],\n",
       " ['ours/170016_ours.png', 'gl/170016_gl.png', 'ce/170016_ce.png'],\n",
       " ['ours/176359_ours.png', 'ce/176359_ce.png', 'gl/176359_gl.png'],\n",
       " ['ours/172366_ours.png', 'ce/172366_ce.png', 'gl/172366_gl.png'],\n",
       " ['ours/025396_ours.png', 'gl/025396_gl.png', 'ce/025396_ce.png'],\n",
       " ['ours/015865_ours.png', 'ce/015865_ce.png', 'gl/015865_gl.png'],\n",
       " ['ours/033386_ours.png', 'ce/033386_ce.png', 'gl/033386_gl.png'],\n",
       " ['ours/029148_ours.png', 'ce/029148_ce.png', 'gl/029148_gl.png'],\n",
       " ['ours/082245_ours.png', 'gl/082245_gl.png', 'ce/082245_ce.png'],\n",
       " ['ours/086825_ours.png', 'gl/086825_gl.png', 'ce/086825_ce.png'],\n",
       " ['ours/154940_ours.png', 'gl/154940_gl.png', 'ce/154940_ce.png'],\n",
       " ['ours/030272_ours.png', 'gl/030272_gl.png', 'ce/030272_ce.png'],\n",
       " ['ours/070276_ours.png', 'gl/070276_gl.png', 'ce/070276_ce.png'],\n",
       " ['ours/197795_ours.png', 'ce/197795_ce.png', 'gl/197795_gl.png'],\n",
       " ['ours/127486_ours.png', 'ce/127486_ce.png', 'gl/127486_gl.png'],\n",
       " ['ours/151091_ours.png', 'gl/151091_gl.png', 'ce/151091_ce.png'],\n",
       " ['ours/097839_ours.png', 'ce/097839_ce.png', 'gl/097839_gl.png'],\n",
       " ['ours/179360_ours.png', 'ce/179360_ce.png', 'gl/179360_gl.png'],\n",
       " ['ours/156093_ours.png', 'ce/156093_ce.png', 'gl/156093_gl.png'],\n",
       " ['ours/002396_ours.png', 'ce/002396_ce.png', 'gl/002396_gl.png'],\n",
       " ['ours/011002_ours.png', 'ce/011002_ce.png', 'gl/011002_gl.png'],\n",
       " ['ours/013292_ours.png', 'gl/013292_gl.png', 'ce/013292_ce.png'],\n",
       " ['ours/022875_ours.png', 'gl/022875_gl.png', 'ce/022875_ce.png'],\n",
       " ['ours/103867_ours.png', 'ce/103867_ce.png', 'gl/103867_gl.png'],\n",
       " ['ours/096877_ours.png', 'ce/096877_ce.png', 'gl/096877_gl.png'],\n",
       " ['ours/036619_ours.png', 'ce/036619_ce.png', 'gl/036619_gl.png'],\n",
       " ['ours/082453_ours.png', 'gl/082453_gl.png', 'ce/082453_ce.png'],\n",
       " ['ours/012861_ours.png', 'ce/012861_ce.png', 'gl/012861_gl.png'],\n",
       " ['ours/069259_ours.png', 'ce/069259_ce.png', 'gl/069259_gl.png'],\n",
       " ['ours/000622_ours.png', 'ce/000622_ce.png', 'gl/000622_gl.png'],\n",
       " ['ours/027423_ours.png', 'ce/027423_ce.png', 'gl/027423_gl.png'],\n",
       " ['ce/076139_ce.png', 'ours/076139_ours.png', 'gl/076139_gl.png'],\n",
       " ['gl/068390_gl.png', 'ours/068390_ours.png', 'ce/068390_ce.png'],\n",
       " ['ours/187724_ours.png', 'ce/187724_ce.png', 'gl/187724_gl.png'],\n",
       " ['ours/154368_ours.png', 'gl/154368_gl.png', 'ce/154368_ce.png'],\n",
       " ['ours/132089_ours.png', 'gl/132089_gl.png', 'ce/132089_ce.png'],\n",
       " ['ours/113024_ours.png', 'gl/113024_gl.png', 'ce/113024_ce.png'],\n",
       " ['ours/086113_ours.png', 'gl/086113_gl.png', 'ce/086113_ce.png'],\n",
       " ['ours/108144_ours.png', 'gl/108144_gl.png', 'ce/108144_ce.png'],\n",
       " ['ours/013902_ours.png', 'ce/013902_ce.png', 'gl/013902_gl.png'],\n",
       " ['ours/129013_ours.png', 'gl/129013_gl.png', 'ce/129013_ce.png'],\n",
       " ['ours/102380_ours.png', 'ce/102380_ce.png', 'gl/102380_gl.png'],\n",
       " ['ours/037802_ours.png', 'ce/037802_ce.png', 'gl/037802_gl.png'],\n",
       " ['ours/037491_ours.png', 'gl/037491_gl.png', 'ce/037491_ce.png'],\n",
       " ['ours/028867_ours.png', 'gl/028867_gl.png', 'ce/028867_ce.png'],\n",
       " ['ours/171635_ours.png', 'ce/171635_ce.png', 'gl/171635_gl.png'],\n",
       " ['ours/198523_ours.png', 'ce/198523_ce.png', 'gl/198523_gl.png'],\n",
       " ['ours/126817_ours.png', 'gl/126817_gl.png', 'ce/126817_ce.png'],\n",
       " ['ours/150030_ours.png', 'ce/150030_ce.png', 'gl/150030_gl.png'],\n",
       " ['ours/186799_ours.png', 'ce/186799_ce.png', 'gl/186799_gl.png'],\n",
       " ['ours/085753_ours.png', 'ce/085753_ce.png', 'gl/085753_gl.png'],\n",
       " ['ours/096318_ours.png', 'ce/096318_ce.png', 'gl/096318_gl.png'],\n",
       " ['ours/172161_ours.png', 'ce/172161_ce.png', 'gl/172161_gl.png'],\n",
       " ['ours/014002_ours.png', 'gl/014002_gl.png', 'ce/014002_ce.png']]"
      ]
     },
     "execution_count": 31,
     "metadata": {},
     "output_type": "execute_result"
    }
   ],
   "source": [
    "ds[0]"
   ]
  },
  {
   "cell_type": "code",
   "execution_count": 9,
   "metadata": {},
   "outputs": [],
   "source": [
    "import pandas as pd"
   ]
  },
  {
   "cell_type": "code",
   "execution_count": 10,
   "metadata": {},
   "outputs": [],
   "source": [
    "df = pd.DataFrame(ds[0])"
   ]
  },
  {
   "cell_type": "code",
   "execution_count": 26,
   "metadata": {},
   "outputs": [
    {
     "data": {
      "text/plain": [
       "3      ours/133265_ours.png\n",
       "4      ours/197999_ours.png\n",
       "5      ours/162198_ours.png\n",
       "6      ours/141452_ours.png\n",
       "7      ours/103561_ours.png\n",
       "8      ours/193728_ours.png\n",
       "9      ours/087038_ours.png\n",
       "10     ours/151314_ours.png\n",
       "11     ours/152961_ours.png\n",
       "12     ours/040770_ours.png\n",
       "13     ours/127712_ours.png\n",
       "14     ours/075381_ours.png\n",
       "15     ours/071378_ours.png\n",
       "16     ours/070612_ours.png\n",
       "17     ours/188462_ours.png\n",
       "18     ours/036367_ours.png\n",
       "19     ours/052224_ours.png\n",
       "20     ours/111492_ours.png\n",
       "21     ours/024137_ours.png\n",
       "22     ours/202476_ours.png\n",
       "23     ours/128394_ours.png\n",
       "24     ours/145916_ours.png\n",
       "25     ours/027371_ours.png\n",
       "26     ours/005762_ours.png\n",
       "27     ours/027808_ours.png\n",
       "28     ours/001418_ours.png\n",
       "29     ours/100259_ours.png\n",
       "30     ours/085238_ours.png\n",
       "31     ours/081378_ours.png\n",
       "32     ours/180799_ours.png\n",
       "               ...         \n",
       "73     ours/096877_ours.png\n",
       "74     ours/036619_ours.png\n",
       "75     ours/082453_ours.png\n",
       "76     ours/012861_ours.png\n",
       "77     ours/069259_ours.png\n",
       "78     ours/000622_ours.png\n",
       "79     ours/027423_ours.png\n",
       "80         ce/076139_ce.png\n",
       "81         gl/068390_gl.png\n",
       "82     ours/187724_ours.png\n",
       "83     ours/154368_ours.png\n",
       "84     ours/132089_ours.png\n",
       "85     ours/113024_ours.png\n",
       "86     ours/086113_ours.png\n",
       "87     ours/108144_ours.png\n",
       "88     ours/013902_ours.png\n",
       "89     ours/129013_ours.png\n",
       "90     ours/102380_ours.png\n",
       "91     ours/037802_ours.png\n",
       "92     ours/037491_ours.png\n",
       "93     ours/028867_ours.png\n",
       "94     ours/171635_ours.png\n",
       "95     ours/198523_ours.png\n",
       "96     ours/126817_ours.png\n",
       "97     ours/150030_ours.png\n",
       "98     ours/186799_ours.png\n",
       "99     ours/085753_ours.png\n",
       "100    ours/096318_ours.png\n",
       "101    ours/172161_ours.png\n",
       "102    ours/014002_ours.png\n",
       "Name: rank_result, Length: 100, dtype: object"
      ]
     },
     "execution_count": 26,
     "metadata": {},
     "output_type": "execute_result"
    }
   ],
   "source": [
    "df['rank_result'].dropna().apply(lambda row: row[0])"
   ]
  },
  {
   "cell_type": "code",
   "execution_count": 16,
   "metadata": {},
   "outputs": [
    {
     "data": {
      "text/plain": [
       "'ours/133265_ours.png'"
      ]
     },
     "execution_count": 16,
     "metadata": {},
     "output_type": "execute_result"
    }
   ],
   "source": [
    "df['rank_first'] = df['rank_result'][3][0]"
   ]
  }
 ],
 "metadata": {
  "kernelspec": {
   "display_name": "Python 3",
   "language": "python",
   "name": "python3"
  },
  "language_info": {
   "codemirror_mode": {
    "name": "ipython",
    "version": 3
   },
   "file_extension": ".py",
   "mimetype": "text/x-python",
   "name": "python",
   "nbconvert_exporter": "python",
   "pygments_lexer": "ipython3",
   "version": "3.6.4"
  }
 },
 "nbformat": 4,
 "nbformat_minor": 2
}
